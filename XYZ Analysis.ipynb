{
 "cells": [
  {
   "attachments": {},
   "cell_type": "markdown",
   "id": "baef9f0d",
   "metadata": {},
   "source": [
    "# <font color=\"#FF1493\">Welcome to my XYZ Data Analysis!</font>\n",
    "\n",
    "According to the task, the problem is users are getting into the site and leaving without watching any video, while the company is spending a lot of money to acquire users who dont generate revenue.\n",
    "\n",
    " <p style=\"text-decoration: underline;\">We would like to:</p>\n",
    "<ol>\n",
    "  <li>\n",
    "      Assign each video to one of three categories: Top, Good, or Else (lowest likelihood).\n",
    "  </li>\n",
    "    <li>\n",
    "        Identify the most important characteristics that determine which videos are counted as \"Top\" videos.\n",
    "    </li>\n",
    "    \n",
    "</ol>\n",
    "\n",
    " <p style=\"text-decoration: underline;\">My assumptions are:</p>\n",
    "<ol>\n",
    "  <li>\n",
    "      As described in the task, we are a company like YouTube that makes money from advertising. <br> YouTube automatically displays ads when you enter a video, so the most viewed videos are the most profitable.\n",
    "  </li>\n",
    "    <li>\n",
    "        Because we don't know if a client left the video in the middle, I assume that every view count means that the user watched the entire video (so every view = user that watched an ad). \n",
    "    </li>\n",
    "    \n",
    "</ol>\n"
   ]
  },
  {
   "cell_type": "markdown",
   "id": "1004c7d5",
   "metadata": {},
   "source": [
    "# Import Liabaries"
   ]
  },
  {
   "cell_type": "code",
   "execution_count": 1,
   "id": "d33675a3",
   "metadata": {},
   "outputs": [],
   "source": [
    "import pandas as pd\n",
    "import numpy as np\n",
    "import matplotlib.pyplot as plt\n",
    "import seaborn as sns\n",
    "import pandasql\n",
    "from kmodes.kprototypes import KPrototypes\n",
    "import umap.umap_ as umap\n",
    "import sklearn\n",
    "from scipy import stats\n",
    "import warnings\n",
    "warnings.filterwarnings(\"ignore\")"
   ]
  },
  {
   "cell_type": "markdown",
   "id": "a0e27f99",
   "metadata": {},
   "source": [
    "# Importing Datasets from local host"
   ]
  },
  {
   "cell_type": "code",
   "execution_count": 2,
   "id": "e7b5dd03",
   "metadata": {},
   "outputs": [],
   "source": [
    "df_count = pd.read_csv(r'/Users/danielevko/Library/CloudStorage/OneDrive-Personal/Documents/קורות חיים/Playstudios/home assigment/Data/video_count.csv')"
   ]
  },
  {
   "cell_type": "code",
   "execution_count": 3,
   "id": "93ab297d",
   "metadata": {},
   "outputs": [],
   "source": [
    "df_feat = pd.read_csv(r'/Users/danielevko/Library/CloudStorage/OneDrive-Personal/Documents/קורות חיים/Playstudios/home assigment/Data/video_features.csv')"
   ]
  },
  {
   "cell_type": "markdown",
   "id": "5f8361b1",
   "metadata": {},
   "source": [
    "# Explore the video_count file"
   ]
  },
  {
   "cell_type": "markdown",
   "id": "e9419b5d",
   "metadata": {},
   "source": [
    "Let's check some general info."
   ]
  },
  {
   "cell_type": "code",
   "execution_count": 4,
   "id": "83a4f6bb",
   "metadata": {},
   "outputs": [
    {
     "data": {
      "text/html": [
       "<div>\n",
       "<style scoped>\n",
       "    .dataframe tbody tr th:only-of-type {\n",
       "        vertical-align: middle;\n",
       "    }\n",
       "\n",
       "    .dataframe tbody tr th {\n",
       "        vertical-align: top;\n",
       "    }\n",
       "\n",
       "    .dataframe thead th {\n",
       "        text-align: right;\n",
       "    }\n",
       "</style>\n",
       "<table border=\"1\" class=\"dataframe\">\n",
       "  <thead>\n",
       "    <tr style=\"text-align: right;\">\n",
       "      <th></th>\n",
       "      <th>video_id</th>\n",
       "      <th>date</th>\n",
       "      <th>count</th>\n",
       "    </tr>\n",
       "  </thead>\n",
       "  <tbody>\n",
       "    <tr>\n",
       "      <th>0</th>\n",
       "      <td>56</td>\n",
       "      <td>2017-12-23</td>\n",
       "      <td>33</td>\n",
       "    </tr>\n",
       "    <tr>\n",
       "      <th>1</th>\n",
       "      <td>96</td>\n",
       "      <td>2017-12-15</td>\n",
       "      <td>58</td>\n",
       "    </tr>\n",
       "    <tr>\n",
       "      <th>2</th>\n",
       "      <td>100</td>\n",
       "      <td>2017-12-04</td>\n",
       "      <td>114</td>\n",
       "    </tr>\n",
       "    <tr>\n",
       "      <th>3</th>\n",
       "      <td>32</td>\n",
       "      <td>2017-12-25</td>\n",
       "      <td>18</td>\n",
       "    </tr>\n",
       "    <tr>\n",
       "      <th>4</th>\n",
       "      <td>79</td>\n",
       "      <td>2017-10-17</td>\n",
       "      <td>46</td>\n",
       "    </tr>\n",
       "  </tbody>\n",
       "</table>\n",
       "</div>"
      ],
      "text/plain": [
       "   video_id        date  count\n",
       "0        56  2017-12-23     33\n",
       "1        96  2017-12-15     58\n",
       "2       100  2017-12-04    114\n",
       "3        32  2017-12-25     18\n",
       "4        79  2017-10-17     46"
      ]
     },
     "execution_count": 4,
     "metadata": {},
     "output_type": "execute_result"
    }
   ],
   "source": [
    "df_count.head()"
   ]
  },
  {
   "cell_type": "code",
   "execution_count": 5,
   "id": "91d3c0a1",
   "metadata": {},
   "outputs": [
    {
     "name": "stdout",
     "output_type": "stream",
     "text": [
      "<class 'pandas.core.frame.DataFrame'>\n",
      "RangeIndex: 11903 entries, 0 to 11902\n",
      "Data columns (total 3 columns):\n",
      " #   Column    Non-Null Count  Dtype \n",
      "---  ------    --------------  ----- \n",
      " 0   video_id  11903 non-null  int64 \n",
      " 1   date      11903 non-null  object\n",
      " 2   count     11903 non-null  int64 \n",
      "dtypes: int64(2), object(1)\n",
      "memory usage: 279.1+ KB\n"
     ]
    }
   ],
   "source": [
    "df_count.info()"
   ]
  },
  {
   "cell_type": "markdown",
   "id": "cedb3e38",
   "metadata": {},
   "source": [
    "To extract info like most-watched day, month, and etc., we need to convert the date column to DateTime type."
   ]
  },
  {
   "cell_type": "code",
   "execution_count": 6,
   "id": "a5813d51",
   "metadata": {},
   "outputs": [],
   "source": [
    "df_count['date'] = pd.to_datetime(df_count['date'],format = '%Y-%m-%d')"
   ]
  },
  {
   "cell_type": "markdown",
   "id": "52ac2286",
   "metadata": {},
   "source": [
    "We can see that the average view of the videos each day is 75.42 and the median view is 72. <br>\n",
    "Standard Deviation, however, is almost 50% of the average, indicating a wider variation in views for each day. "
   ]
  },
  {
   "cell_type": "code",
   "execution_count": 7,
   "id": "2cb958ea",
   "metadata": {
    "scrolled": true
   },
   "outputs": [
    {
     "data": {
      "text/html": [
       "<div>\n",
       "<style scoped>\n",
       "    .dataframe tbody tr th:only-of-type {\n",
       "        vertical-align: middle;\n",
       "    }\n",
       "\n",
       "    .dataframe tbody tr th {\n",
       "        vertical-align: top;\n",
       "    }\n",
       "\n",
       "    .dataframe thead th {\n",
       "        text-align: right;\n",
       "    }\n",
       "</style>\n",
       "<table border=\"1\" class=\"dataframe\">\n",
       "  <thead>\n",
       "    <tr style=\"text-align: right;\">\n",
       "      <th></th>\n",
       "      <th>video_id</th>\n",
       "      <th>date</th>\n",
       "      <th>count</th>\n",
       "    </tr>\n",
       "  </thead>\n",
       "  <tbody>\n",
       "    <tr>\n",
       "      <th>count</th>\n",
       "      <td>11903.000000</td>\n",
       "      <td>11903</td>\n",
       "      <td>11903.000000</td>\n",
       "    </tr>\n",
       "    <tr>\n",
       "      <th>mean</th>\n",
       "      <td>50.494245</td>\n",
       "      <td>2017-11-30 02:24:12.339746304</td>\n",
       "      <td>75.427623</td>\n",
       "    </tr>\n",
       "    <tr>\n",
       "      <th>min</th>\n",
       "      <td>1.000000</td>\n",
       "      <td>2017-09-03 00:00:00</td>\n",
       "      <td>6.000000</td>\n",
       "    </tr>\n",
       "    <tr>\n",
       "      <th>25%</th>\n",
       "      <td>25.000000</td>\n",
       "      <td>2017-10-31 00:00:00</td>\n",
       "      <td>51.000000</td>\n",
       "    </tr>\n",
       "    <tr>\n",
       "      <th>50%</th>\n",
       "      <td>50.000000</td>\n",
       "      <td>2017-11-30 00:00:00</td>\n",
       "      <td>72.000000</td>\n",
       "    </tr>\n",
       "    <tr>\n",
       "      <th>75%</th>\n",
       "      <td>76.000000</td>\n",
       "      <td>2017-12-30 00:00:00</td>\n",
       "      <td>97.000000</td>\n",
       "    </tr>\n",
       "    <tr>\n",
       "      <th>max</th>\n",
       "      <td>100.000000</td>\n",
       "      <td>2018-02-27 00:00:00</td>\n",
       "      <td>196.000000</td>\n",
       "    </tr>\n",
       "    <tr>\n",
       "      <th>std</th>\n",
       "      <td>28.875755</td>\n",
       "      <td>NaN</td>\n",
       "      <td>33.011251</td>\n",
       "    </tr>\n",
       "  </tbody>\n",
       "</table>\n",
       "</div>"
      ],
      "text/plain": [
       "           video_id                           date         count\n",
       "count  11903.000000                          11903  11903.000000\n",
       "mean      50.494245  2017-11-30 02:24:12.339746304     75.427623\n",
       "min        1.000000            2017-09-03 00:00:00      6.000000\n",
       "25%       25.000000            2017-10-31 00:00:00     51.000000\n",
       "50%       50.000000            2017-11-30 00:00:00     72.000000\n",
       "75%       76.000000            2017-12-30 00:00:00     97.000000\n",
       "max      100.000000            2018-02-27 00:00:00    196.000000\n",
       "std       28.875755                            NaN     33.011251"
      ]
     },
     "execution_count": 7,
     "metadata": {},
     "output_type": "execute_result"
    }
   ],
   "source": [
    "df_count.describe(include = 'all', datetime_is_numeric=True)"
   ]
  },
  {
   "cell_type": "markdown",
   "id": "153c156a",
   "metadata": {},
   "source": [
    "In between the first video and the last video views, there is a 177-day gap (half a year).\n",
    "<a id='min_and_max_date'></a>"
   ]
  },
  {
   "cell_type": "code",
   "execution_count": 8,
   "id": "965d025a",
   "metadata": {},
   "outputs": [
    {
     "name": "stdout",
     "output_type": "stream",
     "text": [
      "Between the first video and the last video, 177 has passed\n",
      "The minimum date is 2017-09-03\n",
      "The maximum date is 2018-02-27\n"
     ]
    }
   ],
   "source": [
    "print(\"Between the first video and the last video, \" + str((df_count['date'].max() - df_count['date'].min()).days) + \" has passed\")\n",
    "print(\"The minimum date is {}\".format(df_count['date'].min().date()))\n",
    "print(\"The maximum date is {}\".format(df_count['date'].max().date()))"
   ]
  },
  {
   "cell_type": "markdown",
   "id": "68fba42e",
   "metadata": {},
   "source": [
    "There are no missing values (which is good, since we won't have to fill in the missing values)."
   ]
  },
  {
   "cell_type": "code",
   "execution_count": 9,
   "id": "750a572e",
   "metadata": {
    "scrolled": false
   },
   "outputs": [
    {
     "data": {
      "text/plain": [
       "video_id    False\n",
       "date        False\n",
       "count       False\n",
       "dtype: bool"
      ]
     },
     "execution_count": 9,
     "metadata": {},
     "output_type": "execute_result"
    }
   ],
   "source": [
    "df_count.isnull().any()"
   ]
  },
  {
   "cell_type": "markdown",
   "id": "fc33b5a2",
   "metadata": {},
   "source": [
    "In general we have info on 100 diffrent videos"
   ]
  },
  {
   "cell_type": "code",
   "execution_count": 10,
   "id": "f51b4098",
   "metadata": {},
   "outputs": [
    {
     "data": {
      "text/plain": [
       "100"
      ]
     },
     "execution_count": 10,
     "metadata": {},
     "output_type": "execute_result"
    }
   ],
   "source": [
    "len(df_count.video_id.unique())"
   ]
  },
  {
   "cell_type": "markdown",
   "id": "eb656181",
   "metadata": {},
   "source": [
    "### Lets check if the month or day affects views.\n",
    "\n",
    "The weekdays and months will need to be categorized."
   ]
  },
  {
   "cell_type": "code",
   "execution_count": 11,
   "id": "75bcd1d6",
   "metadata": {},
   "outputs": [],
   "source": [
    "df_count['day_name'] = df_count['date'].dt.day_name()\n",
    "df_count['month'] = df_count['date'].dt.month_name()"
   ]
  },
  {
   "cell_type": "code",
   "execution_count": 12,
   "id": "102c6175",
   "metadata": {},
   "outputs": [],
   "source": [
    "weekdays = [\"Monday\", \"Tuesday\", \"Wednesday\", \"Thursday\", \"Friday\", \"Saturday\", \"Sunday\"]\n",
    "df_count['day_name'] = pd.Categorical(df_count['day_name'], categories=weekdays)"
   ]
  },
  {
   "cell_type": "markdown",
   "id": "7e7c85e0",
   "metadata": {},
   "source": [
    "[Previously](#min_and_max_date), we checked that our minimum and maximum dates are 6 months apart, so we will categorize our months based on that."
   ]
  },
  {
   "cell_type": "code",
   "execution_count": 13,
   "id": "d89fa862",
   "metadata": {},
   "outputs": [
    {
     "data": {
      "text/plain": [
       "array(['December', 'October', 'November', 'September', 'January',\n",
       "       'February'], dtype=object)"
      ]
     },
     "execution_count": 13,
     "metadata": {},
     "output_type": "execute_result"
    }
   ],
   "source": [
    "df_count['month'].unique()"
   ]
  },
  {
   "cell_type": "code",
   "execution_count": 14,
   "id": "64882316",
   "metadata": {},
   "outputs": [],
   "source": [
    "months = [\"September\",\"October\", \"November\", \"December\", \"January\", \"February\"]\n",
    "df_count['month'] = pd.Categorical(df_count['month'], categories=months)"
   ]
  },
  {
   "cell_type": "markdown",
   "id": "fb2c3eed",
   "metadata": {},
   "source": [
    "### Now let's take a look at the months and weeks versus views.\n",
    "#### We will start with the months."
   ]
  },
  {
   "cell_type": "markdown",
   "id": "f275d595",
   "metadata": {},
   "source": [
    "We can see a significant difference between the month's total views, as November was the highest and Febuary is the lowest.\n",
    "\n",
    "Having the lowest number of views in February is bad news for XYZ since the company has seen a huge drop in views."
   ]
  },
  {
   "cell_type": "code",
   "execution_count": 15,
   "id": "292b509a",
   "metadata": {},
   "outputs": [
    {
     "data": {
      "text/html": [
       "<div>\n",
       "<style scoped>\n",
       "    .dataframe tbody tr th:only-of-type {\n",
       "        vertical-align: middle;\n",
       "    }\n",
       "\n",
       "    .dataframe tbody tr th {\n",
       "        vertical-align: top;\n",
       "    }\n",
       "\n",
       "    .dataframe thead th {\n",
       "        text-align: right;\n",
       "    }\n",
       "</style>\n",
       "<table border=\"1\" class=\"dataframe\">\n",
       "  <thead>\n",
       "    <tr style=\"text-align: right;\">\n",
       "      <th></th>\n",
       "      <th>month</th>\n",
       "      <th>count</th>\n",
       "    </tr>\n",
       "  </thead>\n",
       "  <tbody>\n",
       "    <tr>\n",
       "      <th>0</th>\n",
       "      <td>September</td>\n",
       "      <td>66209</td>\n",
       "    </tr>\n",
       "    <tr>\n",
       "      <th>1</th>\n",
       "      <td>October</td>\n",
       "      <td>216351</td>\n",
       "    </tr>\n",
       "    <tr>\n",
       "      <th>2</th>\n",
       "      <td>November</td>\n",
       "      <td>236690</td>\n",
       "    </tr>\n",
       "    <tr>\n",
       "      <th>3</th>\n",
       "      <td>December</td>\n",
       "      <td>212224</td>\n",
       "    </tr>\n",
       "    <tr>\n",
       "      <th>4</th>\n",
       "      <td>January</td>\n",
       "      <td>134659</td>\n",
       "    </tr>\n",
       "    <tr>\n",
       "      <th>5</th>\n",
       "      <td>February</td>\n",
       "      <td>31682</td>\n",
       "    </tr>\n",
       "  </tbody>\n",
       "</table>\n",
       "</div>"
      ],
      "text/plain": [
       "       month   count\n",
       "0  September   66209\n",
       "1    October  216351\n",
       "2   November  236690\n",
       "3   December  212224\n",
       "4    January  134659\n",
       "5   February   31682"
      ]
     },
     "execution_count": 15,
     "metadata": {},
     "output_type": "execute_result"
    }
   ],
   "source": [
    "total_month_count = df_count.groupby(by='month',as_index=False).sum()\n",
    "total_month_count[['month','count']]"
   ]
  },
  {
   "cell_type": "code",
   "execution_count": 16,
   "id": "c7c1c172",
   "metadata": {
    "scrolled": true
   },
   "outputs": [
    {
     "data": {
      "text/plain": [
       "<AxesSubplot:xlabel='month', ylabel='count'>"
      ]
     },
     "execution_count": 16,
     "metadata": {},
     "output_type": "execute_result"
    },
    {
     "data": {
      "image/png": "[encoded data removed]",
      "text/plain": [
       "<Figure size 432x288 with 1 Axes>"
      ]
     },
     "metadata": {},
     "output_type": "display_data"
    }
   ],
   "source": [
    "sns.set_style(\"whitegrid\")\n",
    "sns.barplot(x='month', y='count',data=total_month_count,estimator=sum)"
   ]
  },
  {
   "cell_type": "markdown",
   "id": "234f7965",
   "metadata": {},
   "source": [
    "Even though September had one of the fewest total views, it had the highest median,<br> which means that people were watching videos every day in September, but there aren't many rows of that month."
   ]
  },
  {
   "cell_type": "code",
   "execution_count": 17,
   "id": "ba003d58",
   "metadata": {
    "scrolled": true
   },
   "outputs": [
    {
     "data": {
      "text/plain": [
       "<AxesSubplot:xlabel='month', ylabel='count'>"
      ]
     },
     "execution_count": 17,
     "metadata": {},
     "output_type": "execute_result"
    },
    {
     "data": {
      "image/png": "[encoded data removed]",
      "text/plain": [
       "<Figure size 432x288 with 1 Axes>"
      ]
     },
     "metadata": {},
     "output_type": "display_data"
    }
   ],
   "source": [
    "sns.boxplot(x=\"month\", y=\"count\",data = df_count)"
   ]
  },
  {
   "cell_type": "markdown",
   "id": "4cfcfedc",
   "metadata": {},
   "source": [
    "We can verify this by looking at the percentage of the months in the dataset (September only makes up 5 percent)."
   ]
  },
  {
   "cell_type": "code",
   "execution_count": 18,
   "id": "27768a1b",
   "metadata": {
    "scrolled": true
   },
   "outputs": [
    {
     "data": {
      "text/plain": [
       "December     0.256910\n",
       "November     0.248005\n",
       "October      0.200286\n",
       "January      0.191212\n",
       "September    0.055028\n",
       "February     0.048559\n",
       "Name: month, dtype: float64"
      ]
     },
     "execution_count": 18,
     "metadata": {},
     "output_type": "execute_result"
    }
   ],
   "source": [
    "df_count['month'].value_counts()/len(df_count)"
   ]
  },
  {
   "cell_type": "markdown",
   "id": "45da0496",
   "metadata": {},
   "source": [
    "### Our next step is to examine the day of the week."
   ]
  },
  {
   "cell_type": "markdown",
   "id": "613001d5",
   "metadata": {},
   "source": [
    "As we can see, all the days of the week are distributed equally."
   ]
  },
  {
   "cell_type": "code",
   "execution_count": 19,
   "id": "4b9856bc",
   "metadata": {
    "scrolled": true
   },
   "outputs": [
    {
     "data": {
      "text/html": [
       "<div>\n",
       "<style scoped>\n",
       "    .dataframe tbody tr th:only-of-type {\n",
       "        vertical-align: middle;\n",
       "    }\n",
       "\n",
       "    .dataframe tbody tr th {\n",
       "        vertical-align: top;\n",
       "    }\n",
       "\n",
       "    .dataframe thead th {\n",
       "        text-align: right;\n",
       "    }\n",
       "</style>\n",
       "<table border=\"1\" class=\"dataframe\">\n",
       "  <thead>\n",
       "    <tr style=\"text-align: right;\">\n",
       "      <th></th>\n",
       "      <th>day_name</th>\n",
       "      <th>total_views_count</th>\n",
       "    </tr>\n",
       "  </thead>\n",
       "  <tbody>\n",
       "    <tr>\n",
       "      <th>0</th>\n",
       "      <td>Wednesday</td>\n",
       "      <td>129767</td>\n",
       "    </tr>\n",
       "    <tr>\n",
       "      <th>1</th>\n",
       "      <td>Tuesday</td>\n",
       "      <td>128633</td>\n",
       "    </tr>\n",
       "    <tr>\n",
       "      <th>2</th>\n",
       "      <td>Saturday</td>\n",
       "      <td>128631</td>\n",
       "    </tr>\n",
       "    <tr>\n",
       "      <th>3</th>\n",
       "      <td>Sunday</td>\n",
       "      <td>128405</td>\n",
       "    </tr>\n",
       "    <tr>\n",
       "      <th>4</th>\n",
       "      <td>Monday</td>\n",
       "      <td>128209</td>\n",
       "    </tr>\n",
       "    <tr>\n",
       "      <th>5</th>\n",
       "      <td>Friday</td>\n",
       "      <td>127744</td>\n",
       "    </tr>\n",
       "    <tr>\n",
       "      <th>6</th>\n",
       "      <td>Thursday</td>\n",
       "      <td>126426</td>\n",
       "    </tr>\n",
       "  </tbody>\n",
       "</table>\n",
       "</div>"
      ],
      "text/plain": [
       "    day_name  total_views_count\n",
       "0  Wednesday             129767\n",
       "1    Tuesday             128633\n",
       "2   Saturday             128631\n",
       "3     Sunday             128405\n",
       "4     Monday             128209\n",
       "5     Friday             127744\n",
       "6   Thursday             126426"
      ]
     },
     "execution_count": 19,
     "metadata": {},
     "output_type": "execute_result"
    }
   ],
   "source": [
    "pandasql.sqldf(\"select day_name,sum(count) as total_views_count \" +\n",
    "                       \"from df_count \" +\n",
    "                       \"group by day_name \" +\n",
    "                       \"order by sum(count) desc\")"
   ]
  },
  {
   "cell_type": "code",
   "execution_count": 20,
   "id": "8a8ccf8a",
   "metadata": {
    "scrolled": true
   },
   "outputs": [
    {
     "data": {
      "text/plain": [
       "<AxesSubplot:xlabel='day_name', ylabel='count'>"
      ]
     },
     "execution_count": 20,
     "metadata": {},
     "output_type": "execute_result"
    },
    {
     "data": {
      "image/png": "[encoded data removed]",
      "text/plain": [
       "<Figure size 432x288 with 1 Axes>"
      ]
     },
     "metadata": {},
     "output_type": "display_data"
    }
   ],
   "source": [
    "sns.barplot(x = 'day_name',y='count', data = df_count,estimator=sum,ci=\"sd\")"
   ]
  },
  {
   "cell_type": "code",
   "execution_count": 21,
   "id": "cc145b10",
   "metadata": {},
   "outputs": [
    {
     "data": {
      "text/plain": [
       "<AxesSubplot:xlabel='day_name', ylabel='count'>"
      ]
     },
     "execution_count": 21,
     "metadata": {},
     "output_type": "execute_result"
    },
    {
     "data": {
      "image/png": "[encoded data removed]",
      "text/plain": [
       "<Figure size 432x288 with 1 Axes>"
      ]
     },
     "metadata": {},
     "output_type": "display_data"
    }
   ],
   "source": [
    "sns.boxplot(x=\"day_name\", y=\"count\",data = df_count)"
   ]
  },
  {
   "cell_type": "markdown",
   "id": "5bb9828b",
   "metadata": {},
   "source": [
    "Due to the fact that it does not have a significant impact on video views, it can be deleted."
   ]
  },
  {
   "cell_type": "code",
   "execution_count": 22,
   "id": "0b2eda93",
   "metadata": {},
   "outputs": [],
   "source": [
    "df_count.drop(columns='day_name',axis=1,inplace=True)"
   ]
  },
  {
   "cell_type": "markdown",
   "id": "8f43757e",
   "metadata": {},
   "source": [
    "The overall distribution of the count column through time shows a lot of variation and a decrease."
   ]
  },
  {
   "cell_type": "code",
   "execution_count": 23,
   "id": "93ccd412",
   "metadata": {},
   "outputs": [
    {
     "data": {
      "text/plain": [
       "<AxesSubplot:xlabel='date'>"
      ]
     },
     "execution_count": 23,
     "metadata": {},
     "output_type": "execute_result"
    },
    {
     "data": {
      "image/png": "[encoded data removed]",
      "text/plain": [
       "<Figure size 432x288 with 1 Axes>"
      ]
     },
     "metadata": {},
     "output_type": "display_data"
    }
   ],
   "source": [
    "df_count.set_index('date').sort_index()['count'].plot()"
   ]
  },
  {
   "cell_type": "markdown",
   "id": "99265821",
   "metadata": {},
   "source": [
    "## Explore the video_feature file"
   ]
  },
  {
   "cell_type": "code",
   "execution_count": 24,
   "id": "e8c25c7f",
   "metadata": {},
   "outputs": [
    {
     "data": {
      "text/html": [
       "<div>\n",
       "<style scoped>\n",
       "    .dataframe tbody tr th:only-of-type {\n",
       "        vertical-align: middle;\n",
       "    }\n",
       "\n",
       "    .dataframe tbody tr th {\n",
       "        vertical-align: top;\n",
       "    }\n",
       "\n",
       "    .dataframe thead th {\n",
       "        text-align: right;\n",
       "    }\n",
       "</style>\n",
       "<table border=\"1\" class=\"dataframe\">\n",
       "  <thead>\n",
       "    <tr style=\"text-align: right;\">\n",
       "      <th></th>\n",
       "      <th>video_id</th>\n",
       "      <th>video_length</th>\n",
       "      <th>video_language</th>\n",
       "      <th>video_upload_date</th>\n",
       "      <th>video_quality</th>\n",
       "    </tr>\n",
       "  </thead>\n",
       "  <tbody>\n",
       "    <tr>\n",
       "      <th>0</th>\n",
       "      <td>1</td>\n",
       "      <td>16</td>\n",
       "      <td>chineese</td>\n",
       "      <td>2017-09-11</td>\n",
       "      <td>480p</td>\n",
       "    </tr>\n",
       "    <tr>\n",
       "      <th>1</th>\n",
       "      <td>2</td>\n",
       "      <td>27</td>\n",
       "      <td>spanish</td>\n",
       "      <td>2017-10-03</td>\n",
       "      <td>480p</td>\n",
       "    </tr>\n",
       "    <tr>\n",
       "      <th>2</th>\n",
       "      <td>3</td>\n",
       "      <td>30</td>\n",
       "      <td>spanish</td>\n",
       "      <td>2017-10-06</td>\n",
       "      <td>240p</td>\n",
       "    </tr>\n",
       "    <tr>\n",
       "      <th>3</th>\n",
       "      <td>4</td>\n",
       "      <td>15</td>\n",
       "      <td>spanish</td>\n",
       "      <td>2017-10-12</td>\n",
       "      <td>720p</td>\n",
       "    </tr>\n",
       "    <tr>\n",
       "      <th>4</th>\n",
       "      <td>5</td>\n",
       "      <td>19</td>\n",
       "      <td>chineese</td>\n",
       "      <td>2017-09-14</td>\n",
       "      <td>720p</td>\n",
       "    </tr>\n",
       "  </tbody>\n",
       "</table>\n",
       "</div>"
      ],
      "text/plain": [
       "   video_id  video_length video_language video_upload_date video_quality\n",
       "0         1            16       chineese        2017-09-11          480p\n",
       "1         2            27        spanish        2017-10-03          480p\n",
       "2         3            30        spanish        2017-10-06          240p\n",
       "3         4            15        spanish        2017-10-12          720p\n",
       "4         5            19       chineese        2017-09-14          720p"
      ]
     },
     "execution_count": 24,
     "metadata": {},
     "output_type": "execute_result"
    }
   ],
   "source": [
    "df_feat.head()"
   ]
  },
  {
   "cell_type": "code",
   "execution_count": 25,
   "id": "d77fed3c",
   "metadata": {},
   "outputs": [
    {
     "name": "stdout",
     "output_type": "stream",
     "text": [
      "<class 'pandas.core.frame.DataFrame'>\n",
      "RangeIndex: 100 entries, 0 to 99\n",
      "Data columns (total 5 columns):\n",
      " #   Column             Non-Null Count  Dtype \n",
      "---  ------             --------------  ----- \n",
      " 0   video_id           100 non-null    int64 \n",
      " 1   video_length       100 non-null    int64 \n",
      " 2   video_language     100 non-null    object\n",
      " 3   video_upload_date  100 non-null    object\n",
      " 4   video_quality      100 non-null    object\n",
      "dtypes: int64(2), object(3)\n",
      "memory usage: 4.0+ KB\n"
     ]
    }
   ],
   "source": [
    "df_feat.info()"
   ]
  },
  {
   "cell_type": "markdown",
   "id": "bf0d6c9b",
   "metadata": {},
   "source": [
    "To extract info on video_upload_date, we need to convert the column to DateTime type."
   ]
  },
  {
   "cell_type": "code",
   "execution_count": 26,
   "id": "e1f17ab5",
   "metadata": {},
   "outputs": [],
   "source": [
    "df_feat['video_upload_date'] = pd.to_datetime(df_feat['video_upload_date'],format = '%Y-%m-%d')"
   ]
  },
  {
   "cell_type": "markdown",
   "id": "1ab483a0",
   "metadata": {},
   "source": [
    "We can see by using Describe on the dataset some important conclusions:\n",
    "<ol>\n",
    "  <li>\n",
    "      We have information on all the 100 videos.\n",
    "  </li>\n",
    "  <li>\n",
    "     A video's median and average length are almost equal at 23 minutes and 22.7 minutes, respectively, with 15 minutes being the minimum and 30 minutes being the maximum.\n",
    "    </li>\n",
    "    <li>\n",
    "        In total, there are three unique languages: Chineese, Spanish, and English, with Chinese being the most common.\n",
    "    </li>\n",
    "    <li>\n",
    "        On 2017-09-03, the first video was uploaded, and on 2017-10-30, the last one. In other words, the company uploaded videos only during those two months.\n",
    "    </li>\n",
    "    <li>\n",
    "        There are five different video quality options, with 480p being the most common. \n",
    "    </li>\n",
    "    \n",
    "</ol>"
   ]
  },
  {
   "cell_type": "code",
   "execution_count": 27,
   "id": "0b741e45",
   "metadata": {
    "scrolled": true
   },
   "outputs": [
    {
     "data": {
      "text/html": [
       "<div>\n",
       "<style scoped>\n",
       "    .dataframe tbody tr th:only-of-type {\n",
       "        vertical-align: middle;\n",
       "    }\n",
       "\n",
       "    .dataframe tbody tr th {\n",
       "        vertical-align: top;\n",
       "    }\n",
       "\n",
       "    .dataframe thead th {\n",
       "        text-align: right;\n",
       "    }\n",
       "</style>\n",
       "<table border=\"1\" class=\"dataframe\">\n",
       "  <thead>\n",
       "    <tr style=\"text-align: right;\">\n",
       "      <th></th>\n",
       "      <th>video_id</th>\n",
       "      <th>video_length</th>\n",
       "      <th>video_language</th>\n",
       "      <th>video_upload_date</th>\n",
       "      <th>video_quality</th>\n",
       "    </tr>\n",
       "  </thead>\n",
       "  <tbody>\n",
       "    <tr>\n",
       "      <th>count</th>\n",
       "      <td>100.000000</td>\n",
       "      <td>100.000000</td>\n",
       "      <td>100</td>\n",
       "      <td>100</td>\n",
       "      <td>100</td>\n",
       "    </tr>\n",
       "    <tr>\n",
       "      <th>unique</th>\n",
       "      <td>NaN</td>\n",
       "      <td>NaN</td>\n",
       "      <td>3</td>\n",
       "      <td>NaN</td>\n",
       "      <td>5</td>\n",
       "    </tr>\n",
       "    <tr>\n",
       "      <th>top</th>\n",
       "      <td>NaN</td>\n",
       "      <td>NaN</td>\n",
       "      <td>chineese</td>\n",
       "      <td>NaN</td>\n",
       "      <td>480p</td>\n",
       "    </tr>\n",
       "    <tr>\n",
       "      <th>freq</th>\n",
       "      <td>NaN</td>\n",
       "      <td>NaN</td>\n",
       "      <td>35</td>\n",
       "      <td>NaN</td>\n",
       "      <td>28</td>\n",
       "    </tr>\n",
       "    <tr>\n",
       "      <th>mean</th>\n",
       "      <td>50.500000</td>\n",
       "      <td>22.700000</td>\n",
       "      <td>NaN</td>\n",
       "      <td>2017-10-01 00:57:36</td>\n",
       "      <td>NaN</td>\n",
       "    </tr>\n",
       "    <tr>\n",
       "      <th>min</th>\n",
       "      <td>1.000000</td>\n",
       "      <td>15.000000</td>\n",
       "      <td>NaN</td>\n",
       "      <td>2017-09-03 00:00:00</td>\n",
       "      <td>NaN</td>\n",
       "    </tr>\n",
       "    <tr>\n",
       "      <th>25%</th>\n",
       "      <td>25.750000</td>\n",
       "      <td>19.000000</td>\n",
       "      <td>NaN</td>\n",
       "      <td>2017-09-17 00:00:00</td>\n",
       "      <td>NaN</td>\n",
       "    </tr>\n",
       "    <tr>\n",
       "      <th>50%</th>\n",
       "      <td>50.500000</td>\n",
       "      <td>23.000000</td>\n",
       "      <td>NaN</td>\n",
       "      <td>2017-09-29 12:00:00</td>\n",
       "      <td>NaN</td>\n",
       "    </tr>\n",
       "    <tr>\n",
       "      <th>75%</th>\n",
       "      <td>75.250000</td>\n",
       "      <td>27.000000</td>\n",
       "      <td>NaN</td>\n",
       "      <td>2017-10-13 00:00:00</td>\n",
       "      <td>NaN</td>\n",
       "    </tr>\n",
       "    <tr>\n",
       "      <th>max</th>\n",
       "      <td>100.000000</td>\n",
       "      <td>30.000000</td>\n",
       "      <td>NaN</td>\n",
       "      <td>2017-10-30 00:00:00</td>\n",
       "      <td>NaN</td>\n",
       "    </tr>\n",
       "    <tr>\n",
       "      <th>std</th>\n",
       "      <td>29.011492</td>\n",
       "      <td>4.606758</td>\n",
       "      <td>NaN</td>\n",
       "      <td>NaN</td>\n",
       "      <td>NaN</td>\n",
       "    </tr>\n",
       "  </tbody>\n",
       "</table>\n",
       "</div>"
      ],
      "text/plain": [
       "          video_id  video_length video_language    video_upload_date  \\\n",
       "count   100.000000    100.000000            100                  100   \n",
       "unique         NaN           NaN              3                  NaN   \n",
       "top            NaN           NaN       chineese                  NaN   \n",
       "freq           NaN           NaN             35                  NaN   \n",
       "mean     50.500000     22.700000            NaN  2017-10-01 00:57:36   \n",
       "min       1.000000     15.000000            NaN  2017-09-03 00:00:00   \n",
       "25%      25.750000     19.000000            NaN  2017-09-17 00:00:00   \n",
       "50%      50.500000     23.000000            NaN  2017-09-29 12:00:00   \n",
       "75%      75.250000     27.000000            NaN  2017-10-13 00:00:00   \n",
       "max     100.000000     30.000000            NaN  2017-10-30 00:00:00   \n",
       "std      29.011492      4.606758            NaN                  NaN   \n",
       "\n",
       "       video_quality  \n",
       "count            100  \n",
       "unique             5  \n",
       "top             480p  \n",
       "freq              28  \n",
       "mean             NaN  \n",
       "min              NaN  \n",
       "25%              NaN  \n",
       "50%              NaN  \n",
       "75%              NaN  \n",
       "max              NaN  \n",
       "std              NaN  "
      ]
     },
     "execution_count": 27,
     "metadata": {},
     "output_type": "execute_result"
    }
   ],
   "source": [
    "df_feat.describe(include='all',datetime_is_numeric=True)"
   ]
  },
  {
   "cell_type": "markdown",
   "id": "66704975",
   "metadata": {},
   "source": [
    "We don't have any missing values."
   ]
  },
  {
   "cell_type": "code",
   "execution_count": 28,
   "id": "43ecb00c",
   "metadata": {},
   "outputs": [
    {
     "data": {
      "text/plain": [
       "video_id             False\n",
       "video_length         False\n",
       "video_language       False\n",
       "video_upload_date    False\n",
       "video_quality        False\n",
       "dtype: bool"
      ]
     },
     "execution_count": 28,
     "metadata": {},
     "output_type": "execute_result"
    }
   ],
   "source": [
    "df_feat.isnull().any()"
   ]
  },
  {
   "cell_type": "markdown",
   "id": "d8278a0d",
   "metadata": {},
   "source": [
    "## Data Merge"
   ]
  },
  {
   "cell_type": "markdown",
   "id": "d4940af1",
   "metadata": {},
   "source": [
    "In order to continue with the data analysis, we will need to create one main table with all the information, which we will merge according to the video_id."
   ]
  },
  {
   "cell_type": "code",
   "execution_count": 29,
   "id": "356a0d41",
   "metadata": {
    "scrolled": true
   },
   "outputs": [
    {
     "data": {
      "text/html": [
       "<div>\n",
       "<style scoped>\n",
       "    .dataframe tbody tr th:only-of-type {\n",
       "        vertical-align: middle;\n",
       "    }\n",
       "\n",
       "    .dataframe tbody tr th {\n",
       "        vertical-align: top;\n",
       "    }\n",
       "\n",
       "    .dataframe thead th {\n",
       "        text-align: right;\n",
       "    }\n",
       "</style>\n",
       "<table border=\"1\" class=\"dataframe\">\n",
       "  <thead>\n",
       "    <tr style=\"text-align: right;\">\n",
       "      <th></th>\n",
       "      <th>video_id</th>\n",
       "      <th>date</th>\n",
       "      <th>count</th>\n",
       "      <th>month</th>\n",
       "      <th>video_length</th>\n",
       "      <th>video_language</th>\n",
       "      <th>video_upload_date</th>\n",
       "      <th>video_quality</th>\n",
       "    </tr>\n",
       "  </thead>\n",
       "  <tbody>\n",
       "    <tr>\n",
       "      <th>0</th>\n",
       "      <td>56</td>\n",
       "      <td>2017-12-23</td>\n",
       "      <td>33</td>\n",
       "      <td>December</td>\n",
       "      <td>27</td>\n",
       "      <td>chineese</td>\n",
       "      <td>2017-10-01</td>\n",
       "      <td>480p</td>\n",
       "    </tr>\n",
       "    <tr>\n",
       "      <th>1</th>\n",
       "      <td>56</td>\n",
       "      <td>2017-10-28</td>\n",
       "      <td>81</td>\n",
       "      <td>October</td>\n",
       "      <td>27</td>\n",
       "      <td>chineese</td>\n",
       "      <td>2017-10-01</td>\n",
       "      <td>480p</td>\n",
       "    </tr>\n",
       "    <tr>\n",
       "      <th>2</th>\n",
       "      <td>56</td>\n",
       "      <td>2017-12-29</td>\n",
       "      <td>43</td>\n",
       "      <td>December</td>\n",
       "      <td>27</td>\n",
       "      <td>chineese</td>\n",
       "      <td>2017-10-01</td>\n",
       "      <td>480p</td>\n",
       "    </tr>\n",
       "    <tr>\n",
       "      <th>3</th>\n",
       "      <td>56</td>\n",
       "      <td>2017-10-27</td>\n",
       "      <td>60</td>\n",
       "      <td>October</td>\n",
       "      <td>27</td>\n",
       "      <td>chineese</td>\n",
       "      <td>2017-10-01</td>\n",
       "      <td>480p</td>\n",
       "    </tr>\n",
       "    <tr>\n",
       "      <th>4</th>\n",
       "      <td>56</td>\n",
       "      <td>2017-11-05</td>\n",
       "      <td>79</td>\n",
       "      <td>November</td>\n",
       "      <td>27</td>\n",
       "      <td>chineese</td>\n",
       "      <td>2017-10-01</td>\n",
       "      <td>480p</td>\n",
       "    </tr>\n",
       "  </tbody>\n",
       "</table>\n",
       "</div>"
      ],
      "text/plain": [
       "   video_id       date  count     month  video_length video_language  \\\n",
       "0        56 2017-12-23     33  December            27       chineese   \n",
       "1        56 2017-10-28     81   October            27       chineese   \n",
       "2        56 2017-12-29     43  December            27       chineese   \n",
       "3        56 2017-10-27     60   October            27       chineese   \n",
       "4        56 2017-11-05     79  November            27       chineese   \n",
       "\n",
       "  video_upload_date video_quality  \n",
       "0        2017-10-01          480p  \n",
       "1        2017-10-01          480p  \n",
       "2        2017-10-01          480p  \n",
       "3        2017-10-01          480p  \n",
       "4        2017-10-01          480p  "
      ]
     },
     "execution_count": 29,
     "metadata": {},
     "output_type": "execute_result"
    }
   ],
   "source": [
    "df = df_count.merge(df_feat, on='video_id')\n",
    "df.head()"
   ]
  },
  {
   "cell_type": "markdown",
   "id": "79c084db",
   "metadata": {},
   "source": [
    "## Data Transformation"
   ]
  },
  {
   "cell_type": "markdown",
   "id": "87aa5bc1",
   "metadata": {},
   "source": [
    "In order to get more information about the videos, let's perform data transformation.\n",
    "<br>Let's add the total number of views for each video."
   ]
  },
  {
   "cell_type": "code",
   "execution_count": 30,
   "id": "5e66f356",
   "metadata": {},
   "outputs": [
    {
     "data": {
      "text/html": [
       "<div>\n",
       "<style scoped>\n",
       "    .dataframe tbody tr th:only-of-type {\n",
       "        vertical-align: middle;\n",
       "    }\n",
       "\n",
       "    .dataframe tbody tr th {\n",
       "        vertical-align: top;\n",
       "    }\n",
       "\n",
       "    .dataframe thead th {\n",
       "        text-align: right;\n",
       "    }\n",
       "</style>\n",
       "<table border=\"1\" class=\"dataframe\">\n",
       "  <thead>\n",
       "    <tr style=\"text-align: right;\">\n",
       "      <th></th>\n",
       "      <th>video_id</th>\n",
       "      <th>total_views</th>\n",
       "    </tr>\n",
       "  </thead>\n",
       "  <tbody>\n",
       "    <tr>\n",
       "      <th>0</th>\n",
       "      <td>57</td>\n",
       "      <td>15909</td>\n",
       "    </tr>\n",
       "    <tr>\n",
       "      <th>1</th>\n",
       "      <td>44</td>\n",
       "      <td>14409</td>\n",
       "    </tr>\n",
       "    <tr>\n",
       "      <th>2</th>\n",
       "      <td>82</td>\n",
       "      <td>14328</td>\n",
       "    </tr>\n",
       "    <tr>\n",
       "      <th>3</th>\n",
       "      <td>52</td>\n",
       "      <td>14225</td>\n",
       "    </tr>\n",
       "    <tr>\n",
       "      <th>4</th>\n",
       "      <td>4</td>\n",
       "      <td>14192</td>\n",
       "    </tr>\n",
       "  </tbody>\n",
       "</table>\n",
       "</div>"
      ],
      "text/plain": [
       "   video_id  total_views\n",
       "0        57        15909\n",
       "1        44        14409\n",
       "2        82        14328\n",
       "3        52        14225\n",
       "4         4        14192"
      ]
     },
     "execution_count": 30,
     "metadata": {},
     "output_type": "execute_result"
    }
   ],
   "source": [
    "total_video_id_count = pandasql.sqldf(\"select video_id, sum(count) as total_views \" +\n",
    "                       \"from df_count \" +\n",
    "                       \"group by video_id \" +\n",
    "                       \"order by sum(count) desc\")\n",
    "total_video_id_count.head()"
   ]
  },
  {
   "cell_type": "markdown",
   "id": "afa0ce8f",
   "metadata": {},
   "source": [
    "Firstly, we conclude that video length, view count, and total views are negatively correlated! <br>In other words, the longer the video, the less likely people are to watch it."
   ]
  },
  {
   "cell_type": "code",
   "execution_count": 31,
   "id": "bd485e66",
   "metadata": {
    "scrolled": true
   },
   "outputs": [
    {
     "data": {
      "text/html": [
       "<div>\n",
       "<style scoped>\n",
       "    .dataframe tbody tr th:only-of-type {\n",
       "        vertical-align: middle;\n",
       "    }\n",
       "\n",
       "    .dataframe tbody tr th {\n",
       "        vertical-align: top;\n",
       "    }\n",
       "\n",
       "    .dataframe thead th {\n",
       "        text-align: right;\n",
       "    }\n",
       "</style>\n",
       "<table border=\"1\" class=\"dataframe\">\n",
       "  <thead>\n",
       "    <tr style=\"text-align: right;\">\n",
       "      <th></th>\n",
       "      <th>video_id</th>\n",
       "      <th>count</th>\n",
       "      <th>video_length</th>\n",
       "      <th>total_views</th>\n",
       "    </tr>\n",
       "  </thead>\n",
       "  <tbody>\n",
       "    <tr>\n",
       "      <th>video_id</th>\n",
       "      <td>1.000000</td>\n",
       "      <td>0.025763</td>\n",
       "      <td>-0.015629</td>\n",
       "      <td>0.030729</td>\n",
       "    </tr>\n",
       "    <tr>\n",
       "      <th>count</th>\n",
       "      <td>0.025763</td>\n",
       "      <td>1.000000</td>\n",
       "      <td>-0.737882</td>\n",
       "      <td>0.781747</td>\n",
       "    </tr>\n",
       "    <tr>\n",
       "      <th>video_length</th>\n",
       "      <td>-0.015629</td>\n",
       "      <td>-0.737882</td>\n",
       "      <td>1.000000</td>\n",
       "      <td>-0.942053</td>\n",
       "    </tr>\n",
       "    <tr>\n",
       "      <th>total_views</th>\n",
       "      <td>0.030729</td>\n",
       "      <td>0.781747</td>\n",
       "      <td>-0.942053</td>\n",
       "      <td>1.000000</td>\n",
       "    </tr>\n",
       "  </tbody>\n",
       "</table>\n",
       "</div>"
      ],
      "text/plain": [
       "              video_id     count  video_length  total_views\n",
       "video_id      1.000000  0.025763     -0.015629     0.030729\n",
       "count         0.025763  1.000000     -0.737882     0.781747\n",
       "video_length -0.015629 -0.737882      1.000000    -0.942053\n",
       "total_views   0.030729  0.781747     -0.942053     1.000000"
      ]
     },
     "execution_count": 31,
     "metadata": {},
     "output_type": "execute_result"
    }
   ],
   "source": [
    "df = df.merge(total_video_id_count, on='video_id')\n",
    "df.corr()"
   ]
  },
  {
   "cell_type": "markdown",
   "id": "c0b76b70",
   "metadata": {},
   "source": [
    "### Now lets check the effect of the quality of the video."
   ]
  },
  {
   "cell_type": "code",
   "execution_count": 32,
   "id": "2603e98f",
   "metadata": {},
   "outputs": [],
   "source": [
    "total_videos = pandasql.sqldf(\"SELECT * FROM df GROUP BY video_id ORDER BY total_views DESC\")"
   ]
  },
  {
   "cell_type": "markdown",
   "id": "bd40018c",
   "metadata": {},
   "source": [
    "The most-watched quality from all the videos is 480p, followed by 360p, 720p, 1080p, and 240p."
   ]
  },
  {
   "cell_type": "code",
   "execution_count": 33,
   "id": "a1c18f19",
   "metadata": {},
   "outputs": [
    {
     "data": {
      "text/plain": [
       "<AxesSubplot:xlabel='video_quality', ylabel='total_views'>"
      ]
     },
     "execution_count": 33,
     "metadata": {},
     "output_type": "execute_result"
    },
    {
     "data": {
      "image/png": "[encoded data removed]",
      "text/plain": [
       "<Figure size 432x288 with 1 Axes>"
      ]
     },
     "metadata": {},
     "output_type": "display_data"
    }
   ],
   "source": [
    "sns.barplot(x='video_quality',y='total_views',data=total_videos,estimator=sum,ci=\"sd\")"
   ]
  },
  {
   "cell_type": "markdown",
   "id": "65ea05d6",
   "metadata": {},
   "source": [
    "According to the top 25 most-watched videos, the best quality videos are the most popular."
   ]
  },
  {
   "cell_type": "code",
   "execution_count": 34,
   "id": "b3989472",
   "metadata": {},
   "outputs": [
    {
     "data": {
      "text/plain": [
       "<AxesSubplot:xlabel='video_quality', ylabel='total_views'>"
      ]
     },
     "execution_count": 34,
     "metadata": {},
     "output_type": "execute_result"
    },
    {
     "data": {
      "image/png": "[encoded data removed]",
      "text/plain": [
       "<Figure size 432x288 with 1 Axes>"
      ]
     },
     "metadata": {},
     "output_type": "display_data"
    }
   ],
   "source": [
    "sns.barplot(x='video_quality',y='total_views',data=total_videos[0:25],estimator=sum,ci='sd')"
   ]
  },
  {
   "cell_type": "markdown",
   "id": "f34ba628",
   "metadata": {},
   "source": [
    "We see the gap because there are fewer high-quality videos in the website.\n",
    "<br> Thus, even though there are fewer data points, the most-watched ones are of higher quality."
   ]
  },
  {
   "cell_type": "code",
   "execution_count": 35,
   "id": "c2097bf1",
   "metadata": {
    "scrolled": true
   },
   "outputs": [
    {
     "data": {
      "text/plain": [
       "480p     0.280854\n",
       "360p     0.229606\n",
       "720p     0.169537\n",
       "1080p    0.160044\n",
       "240p     0.159960\n",
       "Name: video_quality, dtype: float64"
      ]
     },
     "execution_count": 35,
     "metadata": {},
     "output_type": "execute_result"
    }
   ],
   "source": [
    "df['video_quality'].value_counts()/len(df)"
   ]
  },
  {
   "cell_type": "markdown",
   "id": "f907d92a",
   "metadata": {},
   "source": [
    "Contrary to this, the first quartile of total video views shows less quality."
   ]
  },
  {
   "cell_type": "code",
   "execution_count": 36,
   "id": "d041990f",
   "metadata": {
    "scrolled": true
   },
   "outputs": [
    {
     "data": {
      "text/plain": [
       "<AxesSubplot:xlabel='video_quality', ylabel='total_views'>"
      ]
     },
     "execution_count": 36,
     "metadata": {},
     "output_type": "execute_result"
    },
    {
     "data": {
      "image/png": "[encoded data removed]",
      "text/plain": [
       "<Figure size 432x288 with 1 Axes>"
      ]
     },
     "metadata": {},
     "output_type": "display_data"
    }
   ],
   "source": [
    "sns.barplot(x='video_quality',y='total_views',data=total_videos[75:],estimator=sum,ci='sd')"
   ]
  },
  {
   "cell_type": "code",
   "execution_count": 37,
   "id": "c715dbf8",
   "metadata": {
    "scrolled": false
   },
   "outputs": [
    {
     "data": {
      "text/html": [
       "<div>\n",
       "<style scoped>\n",
       "    .dataframe tbody tr th:only-of-type {\n",
       "        vertical-align: middle;\n",
       "    }\n",
       "\n",
       "    .dataframe tbody tr th {\n",
       "        vertical-align: top;\n",
       "    }\n",
       "\n",
       "    .dataframe thead th {\n",
       "        text-align: right;\n",
       "    }\n",
       "</style>\n",
       "<table border=\"1\" class=\"dataframe\">\n",
       "  <thead>\n",
       "    <tr style=\"text-align: right;\">\n",
       "      <th></th>\n",
       "      <th>video_id</th>\n",
       "      <th>count</th>\n",
       "      <th>video_length</th>\n",
       "    </tr>\n",
       "    <tr>\n",
       "      <th>video_quality</th>\n",
       "      <th></th>\n",
       "      <th></th>\n",
       "      <th></th>\n",
       "    </tr>\n",
       "  </thead>\n",
       "  <tbody>\n",
       "    <tr>\n",
       "      <th>1080p</th>\n",
       "      <td>57.100787</td>\n",
       "      <td>93.531234</td>\n",
       "      <td>22.426247</td>\n",
       "    </tr>\n",
       "    <tr>\n",
       "      <th>240p</th>\n",
       "      <td>59.151786</td>\n",
       "      <td>54.817752</td>\n",
       "      <td>24.888130</td>\n",
       "    </tr>\n",
       "    <tr>\n",
       "      <th>360p</th>\n",
       "      <td>46.023052</td>\n",
       "      <td>69.773509</td>\n",
       "      <td>22.688986</td>\n",
       "    </tr>\n",
       "    <tr>\n",
       "      <th>480p</th>\n",
       "      <td>45.230332</td>\n",
       "      <td>70.723003</td>\n",
       "      <td>23.150464</td>\n",
       "    </tr>\n",
       "    <tr>\n",
       "      <th>720p</th>\n",
       "      <td>50.864718</td>\n",
       "      <td>93.234390</td>\n",
       "      <td>20.184836</td>\n",
       "    </tr>\n",
       "  </tbody>\n",
       "</table>\n",
       "</div>"
      ],
      "text/plain": [
       "                video_id      count  video_length\n",
       "video_quality                                    \n",
       "1080p          57.100787  93.531234     22.426247\n",
       "240p           59.151786  54.817752     24.888130\n",
       "360p           46.023052  69.773509     22.688986\n",
       "480p           45.230332  70.723003     23.150464\n",
       "720p           50.864718  93.234390     20.184836"
      ]
     },
     "execution_count": 37,
     "metadata": {},
     "output_type": "execute_result"
    }
   ],
   "source": [
    "df.loc[:,df.columns!='total_views'].groupby('video_quality').mean()"
   ]
  },
  {
   "cell_type": "code",
   "execution_count": 38,
   "id": "5b754d26",
   "metadata": {
    "scrolled": false
   },
   "outputs": [
    {
     "data": {
      "text/plain": [
       "video_quality\n",
       "1080p    11136.062500\n",
       "240p      6523.312500\n",
       "360p      8290.913043\n",
       "480p      8443.821429\n",
       "720p     11067.470588\n",
       "Name: total_views, dtype: float64"
      ]
     },
     "execution_count": 38,
     "metadata": {},
     "output_type": "execute_result"
    }
   ],
   "source": [
    "total_videos.groupby('video_quality').mean()['total_views']"
   ]
  },
  {
   "cell_type": "markdown",
   "id": "06152e95",
   "metadata": {},
   "source": [
    "Based on the results, <b>we can conclude</b> that the higher the quality of the video, the more likely people are to watch it."
   ]
  },
  {
   "cell_type": "markdown",
   "id": "69901803",
   "metadata": {},
   "source": [
    "### Let's examine the effect of language on views."
   ]
  },
  {
   "cell_type": "code",
   "execution_count": 39,
   "id": "a986cb04",
   "metadata": {},
   "outputs": [],
   "source": [
    "df.sort_values('date',inplace=True)"
   ]
  },
  {
   "cell_type": "markdown",
   "id": "32557232",
   "metadata": {},
   "source": [
    "At first glance, this seems to be no difference between the languages."
   ]
  },
  {
   "cell_type": "code",
   "execution_count": 40,
   "id": "c5b488eb",
   "metadata": {},
   "outputs": [
    {
     "data": {
      "text/plain": [
       "<AxesSubplot:xlabel='video_language', ylabel='total_views'>"
      ]
     },
     "execution_count": 40,
     "metadata": {},
     "output_type": "execute_result"
    },
    {
     "data": {
      "image/png": "[encoded data removed]",
      "text/plain": [
       "<Figure size 432x288 with 1 Axes>"
      ]
     },
     "metadata": {},
     "output_type": "display_data"
    }
   ],
   "source": [
    "sns.barplot(x='video_language',y='total_views',data=total_videos,estimator=sum,ci=\"sd\")"
   ]
  },
  {
   "cell_type": "markdown",
   "id": "8ce57af8",
   "metadata": {},
   "source": [
    "According to the top 25 most viewed videos, however, there is a difference and English takes the top spot, followed by Chinese, and finally Spanish."
   ]
  },
  {
   "cell_type": "code",
   "execution_count": 41,
   "id": "c88f1f83",
   "metadata": {
    "scrolled": true
   },
   "outputs": [
    {
     "data": {
      "text/plain": [
       "<AxesSubplot:xlabel='video_language', ylabel='total_views'>"
      ]
     },
     "execution_count": 41,
     "metadata": {},
     "output_type": "execute_result"
    },
    {
     "data": {
      "image/png": "[encoded data removed]",
      "text/plain": [
       "<Figure size 432x288 with 1 Axes>"
      ]
     },
     "metadata": {},
     "output_type": "display_data"
    }
   ],
   "source": [
    "sns.barplot(x='video_language',y='total_views',data=total_videos[0:25],estimator=sum,ci=\"sd\")"
   ]
  },
  {
   "cell_type": "markdown",
   "id": "7c792fd0",
   "metadata": {},
   "source": [
    "Comparatively, we see the same positions of the video languages in the less viewed videos."
   ]
  },
  {
   "cell_type": "code",
   "execution_count": 42,
   "id": "5565367b",
   "metadata": {
    "scrolled": true
   },
   "outputs": [
    {
     "data": {
      "text/plain": [
       "<AxesSubplot:xlabel='video_language', ylabel='total_views'>"
      ]
     },
     "execution_count": 42,
     "metadata": {},
     "output_type": "execute_result"
    },
    {
     "data": {
      "image/png": "[encoded data removed]",
      "text/plain": [
       "<Figure size 432x288 with 1 Axes>"
      ]
     },
     "metadata": {},
     "output_type": "display_data"
    }
   ],
   "source": [
    "sns.barplot(x='video_language',y='total_views',data=total_videos[75:],estimator=sum,ci=\"sd\")"
   ]
  },
  {
   "cell_type": "code",
   "execution_count": 43,
   "id": "60be2f43",
   "metadata": {},
   "outputs": [
    {
     "data": {
      "text/plain": [
       "chineese    35\n",
       "english     33\n",
       "spanish     32\n",
       "Name: video_language, dtype: int64"
      ]
     },
     "execution_count": 43,
     "metadata": {},
     "output_type": "execute_result"
    }
   ],
   "source": [
    "total_videos['video_language'].value_counts()"
   ]
  },
  {
   "cell_type": "markdown",
   "id": "d752e006",
   "metadata": {},
   "source": [
    "The conclusion is that there is no difference between total views of videos by language, so it has to be examined from another perspective. <br>\n",
    "\n",
    "Comparing the overall average with the recent average of the video languages, we can see there is a difference, with Spanish taking the top spot. <br>\n",
    "As a result, seasonality is a factor in the data, and to find out if the language affects the total number of views, we need to examine how the data was distributed over time."
   ]
  },
  {
   "cell_type": "code",
   "execution_count": 44,
   "id": "e68d3676",
   "metadata": {},
   "outputs": [
    {
     "data": {
      "text/html": [
       "<div>\n",
       "<style scoped>\n",
       "    .dataframe tbody tr th:only-of-type {\n",
       "        vertical-align: middle;\n",
       "    }\n",
       "\n",
       "    .dataframe tbody tr th {\n",
       "        vertical-align: top;\n",
       "    }\n",
       "\n",
       "    .dataframe thead th {\n",
       "        text-align: right;\n",
       "    }\n",
       "</style>\n",
       "<table border=\"1\" class=\"dataframe\">\n",
       "  <thead>\n",
       "    <tr style=\"text-align: right;\">\n",
       "      <th></th>\n",
       "      <th>video_id</th>\n",
       "      <th>count</th>\n",
       "      <th>video_length</th>\n",
       "    </tr>\n",
       "    <tr>\n",
       "      <th>video_language</th>\n",
       "      <th></th>\n",
       "      <th></th>\n",
       "      <th></th>\n",
       "    </tr>\n",
       "  </thead>\n",
       "  <tbody>\n",
       "    <tr>\n",
       "      <th>chineese</th>\n",
       "      <td>49.230751</td>\n",
       "      <td>74.166947</td>\n",
       "      <td>22.840969</td>\n",
       "    </tr>\n",
       "    <tr>\n",
       "      <th>english</th>\n",
       "      <td>47.414609</td>\n",
       "      <td>77.100534</td>\n",
       "      <td>22.401629</td>\n",
       "    </tr>\n",
       "    <tr>\n",
       "      <th>spanish</th>\n",
       "      <td>55.058607</td>\n",
       "      <td>75.081472</td>\n",
       "      <td>22.865440</td>\n",
       "    </tr>\n",
       "  </tbody>\n",
       "</table>\n",
       "</div>"
      ],
      "text/plain": [
       "                 video_id      count  video_length\n",
       "video_language                                    \n",
       "chineese        49.230751  74.166947     22.840969\n",
       "english         47.414609  77.100534     22.401629\n",
       "spanish         55.058607  75.081472     22.865440"
      ]
     },
     "execution_count": 44,
     "metadata": {},
     "output_type": "execute_result"
    }
   ],
   "source": [
    "df.loc[:,df.columns != 'total_views'].groupby('video_language').mean()"
   ]
  },
  {
   "cell_type": "code",
   "execution_count": 45,
   "id": "fcec49c4",
   "metadata": {
    "scrolled": false
   },
   "outputs": [
    {
     "data": {
      "text/html": [
       "<div>\n",
       "<style scoped>\n",
       "    .dataframe tbody tr th:only-of-type {\n",
       "        vertical-align: middle;\n",
       "    }\n",
       "\n",
       "    .dataframe tbody tr th {\n",
       "        vertical-align: top;\n",
       "    }\n",
       "\n",
       "    .dataframe thead th {\n",
       "        text-align: right;\n",
       "    }\n",
       "</style>\n",
       "<table border=\"1\" class=\"dataframe\">\n",
       "  <thead>\n",
       "    <tr style=\"text-align: right;\">\n",
       "      <th></th>\n",
       "      <th>video_id</th>\n",
       "      <th>count</th>\n",
       "      <th>video_length</th>\n",
       "    </tr>\n",
       "    <tr>\n",
       "      <th>video_language</th>\n",
       "      <th></th>\n",
       "      <th></th>\n",
       "      <th></th>\n",
       "    </tr>\n",
       "  </thead>\n",
       "  <tbody>\n",
       "    <tr>\n",
       "      <th>chineese</th>\n",
       "      <td>56.062500</td>\n",
       "      <td>55.625000</td>\n",
       "      <td>22.485577</td>\n",
       "    </tr>\n",
       "    <tr>\n",
       "      <th>english</th>\n",
       "      <td>39.455556</td>\n",
       "      <td>46.583333</td>\n",
       "      <td>24.400000</td>\n",
       "    </tr>\n",
       "    <tr>\n",
       "      <th>spanish</th>\n",
       "      <td>49.857895</td>\n",
       "      <td>61.721053</td>\n",
       "      <td>22.121053</td>\n",
       "    </tr>\n",
       "  </tbody>\n",
       "</table>\n",
       "</div>"
      ],
      "text/plain": [
       "                 video_id      count  video_length\n",
       "video_language                                    \n",
       "chineese        56.062500  55.625000     22.485577\n",
       "english         39.455556  46.583333     24.400000\n",
       "spanish         49.857895  61.721053     22.121053"
      ]
     },
     "execution_count": 45,
     "metadata": {},
     "output_type": "execute_result"
    }
   ],
   "source": [
    "df.loc[:,df.columns != 'total_views'].sort_values('date')[df.sort_values('date')['date']>='2018-02-01'].groupby('video_language').mean()"
   ]
  },
  {
   "cell_type": "markdown",
   "id": "0bb30409",
   "metadata": {},
   "source": [
    "### Analyzing the data over periods of weeks"
   ]
  },
  {
   "cell_type": "code",
   "execution_count": 46,
   "id": "5c298144",
   "metadata": {},
   "outputs": [],
   "source": [
    "df_temp = df.copy()\n",
    "df_temp['video_rows_count'] = df_temp['video_id']\n",
    "df_temp.rename(columns={'video_id':'video_id_count'},inplace=True)\n",
    "df_temp = df_temp.loc[:,df_temp.columns != 'total_views']"
   ]
  },
  {
   "cell_type": "markdown",
   "id": "f013b785",
   "metadata": {},
   "source": [
    "#### What we can see in the following table?\n",
    "We can see how the data changed over the weeks in the following table:\n",
    "\n",
    "video_id_count - Unique count videos <br>\n",
    "video_rows_count - Number of rows of data in that week<br>\n",
    "count - The total number of views for the week<br>\n",
    "video_length - The average length of a video<br>\n",
    "video_quality - The most frequent video qualities<br>\n",
    "video_language - The most frequent video languages<br>\n",
    "mean_views_for_video - The average total views for unique videos (by dividing the count by the video_id_count column). <br>\n",
    "mean_views_for_video_pct_change - Change in percentage of mean_views_for_video"
   ]
  },
  {
   "cell_type": "code",
   "execution_count": 47,
   "id": "28432d49",
   "metadata": {},
   "outputs": [
    {
     "data": {
      "text/html": [
       "<div>\n",
       "<style scoped>\n",
       "    .dataframe tbody tr th:only-of-type {\n",
       "        vertical-align: middle;\n",
       "    }\n",
       "\n",
       "    .dataframe tbody tr th {\n",
       "        vertical-align: top;\n",
       "    }\n",
       "\n",
       "    .dataframe thead th {\n",
       "        text-align: right;\n",
       "    }\n",
       "</style>\n",
       "<table border=\"1\" class=\"dataframe\">\n",
       "  <thead>\n",
       "    <tr style=\"text-align: right;\">\n",
       "      <th></th>\n",
       "      <th></th>\n",
       "      <th>video_id_count</th>\n",
       "      <th>video_rows_count</th>\n",
       "      <th>count</th>\n",
       "      <th>video_length</th>\n",
       "      <th>video_quality</th>\n",
       "      <th>video_language</th>\n",
       "      <th>mean_views_for_video</th>\n",
       "      <th>mean_views_for_video_pct_change</th>\n",
       "    </tr>\n",
       "    <tr>\n",
       "      <th>year</th>\n",
       "      <th>week</th>\n",
       "      <th></th>\n",
       "      <th></th>\n",
       "      <th></th>\n",
       "      <th></th>\n",
       "      <th></th>\n",
       "      <th></th>\n",
       "      <th></th>\n",
       "      <th></th>\n",
       "    </tr>\n",
       "  </thead>\n",
       "  <tbody>\n",
       "    <tr>\n",
       "      <th rowspan=\"18\" valign=\"top\">2017</th>\n",
       "      <th>35</th>\n",
       "      <td>3</td>\n",
       "      <td>3</td>\n",
       "      <td>285</td>\n",
       "      <td>20.333333</td>\n",
       "      <td>[480p, 720p]</td>\n",
       "      <td>[english, chineese]</td>\n",
       "      <td>95.000000</td>\n",
       "      <td>NaN</td>\n",
       "    </tr>\n",
       "    <tr>\n",
       "      <th>36</th>\n",
       "      <td>10</td>\n",
       "      <td>38</td>\n",
       "      <td>3934</td>\n",
       "      <td>21.815789</td>\n",
       "      <td>[480p, 720p, 240p]</td>\n",
       "      <td>[english, spanish]</td>\n",
       "      <td>393.400000</td>\n",
       "      <td>3.141053</td>\n",
       "    </tr>\n",
       "    <tr>\n",
       "      <th>37</th>\n",
       "      <td>26</td>\n",
       "      <td>127</td>\n",
       "      <td>12690</td>\n",
       "      <td>21.771654</td>\n",
       "      <td>[480p, 360p, 1080p]</td>\n",
       "      <td>[spanish, english]</td>\n",
       "      <td>488.076923</td>\n",
       "      <td>0.240663</td>\n",
       "    </tr>\n",
       "    <tr>\n",
       "      <th>38</th>\n",
       "      <td>38</td>\n",
       "      <td>222</td>\n",
       "      <td>22525</td>\n",
       "      <td>21.797297</td>\n",
       "      <td>[480p, 1080p, 360p]</td>\n",
       "      <td>[spanish, chineese]</td>\n",
       "      <td>592.763158</td>\n",
       "      <td>0.214487</td>\n",
       "    </tr>\n",
       "    <tr>\n",
       "      <th>39</th>\n",
       "      <td>52</td>\n",
       "      <td>317</td>\n",
       "      <td>31835</td>\n",
       "      <td>22.104101</td>\n",
       "      <td>[480p, 1080p, 360p]</td>\n",
       "      <td>[chineese, english]</td>\n",
       "      <td>612.211538</td>\n",
       "      <td>0.032810</td>\n",
       "    </tr>\n",
       "    <tr>\n",
       "      <th>40</th>\n",
       "      <td>64</td>\n",
       "      <td>401</td>\n",
       "      <td>37431</td>\n",
       "      <td>22.416459</td>\n",
       "      <td>[480p, 360p, 1080p]</td>\n",
       "      <td>[english, chineese]</td>\n",
       "      <td>584.859375</td>\n",
       "      <td>-0.044678</td>\n",
       "    </tr>\n",
       "    <tr>\n",
       "      <th>41</th>\n",
       "      <td>79</td>\n",
       "      <td>507</td>\n",
       "      <td>47457</td>\n",
       "      <td>22.623274</td>\n",
       "      <td>[480p, 360p, 240p]</td>\n",
       "      <td>[chineese, english]</td>\n",
       "      <td>600.721519</td>\n",
       "      <td>0.027121</td>\n",
       "    </tr>\n",
       "    <tr>\n",
       "      <th>42</th>\n",
       "      <td>88</td>\n",
       "      <td>575</td>\n",
       "      <td>50930</td>\n",
       "      <td>22.685217</td>\n",
       "      <td>[480p, 360p, 240p]</td>\n",
       "      <td>[chineese, english]</td>\n",
       "      <td>578.750000</td>\n",
       "      <td>-0.036575</td>\n",
       "    </tr>\n",
       "    <tr>\n",
       "      <th>43</th>\n",
       "      <td>98</td>\n",
       "      <td>655</td>\n",
       "      <td>58639</td>\n",
       "      <td>22.638168</td>\n",
       "      <td>[480p, 360p, 720p]</td>\n",
       "      <td>[chineese, english]</td>\n",
       "      <td>598.357143</td>\n",
       "      <td>0.033878</td>\n",
       "    </tr>\n",
       "    <tr>\n",
       "      <th>44</th>\n",
       "      <td>100</td>\n",
       "      <td>685</td>\n",
       "      <td>58724</td>\n",
       "      <td>22.670073</td>\n",
       "      <td>[480p, 360p, 720p]</td>\n",
       "      <td>[chineese, english]</td>\n",
       "      <td>587.240000</td>\n",
       "      <td>-0.018579</td>\n",
       "    </tr>\n",
       "    <tr>\n",
       "      <th>45</th>\n",
       "      <td>100</td>\n",
       "      <td>682</td>\n",
       "      <td>55615</td>\n",
       "      <td>22.760997</td>\n",
       "      <td>[480p, 360p, 720p]</td>\n",
       "      <td>[chineese, english]</td>\n",
       "      <td>556.150000</td>\n",
       "      <td>-0.052943</td>\n",
       "    </tr>\n",
       "    <tr>\n",
       "      <th>46</th>\n",
       "      <td>100</td>\n",
       "      <td>691</td>\n",
       "      <td>55716</td>\n",
       "      <td>22.746744</td>\n",
       "      <td>[480p, 360p, 720p]</td>\n",
       "      <td>[chineese, english]</td>\n",
       "      <td>557.160000</td>\n",
       "      <td>0.001816</td>\n",
       "    </tr>\n",
       "    <tr>\n",
       "      <th>47</th>\n",
       "      <td>100</td>\n",
       "      <td>693</td>\n",
       "      <td>54228</td>\n",
       "      <td>22.721501</td>\n",
       "      <td>[480p, 360p, 720p]</td>\n",
       "      <td>[chineese, english]</td>\n",
       "      <td>542.280000</td>\n",
       "      <td>-0.026707</td>\n",
       "    </tr>\n",
       "    <tr>\n",
       "      <th>48</th>\n",
       "      <td>100</td>\n",
       "      <td>688</td>\n",
       "      <td>50622</td>\n",
       "      <td>22.718023</td>\n",
       "      <td>[480p, 360p, 720p]</td>\n",
       "      <td>[chineese, english]</td>\n",
       "      <td>506.220000</td>\n",
       "      <td>-0.066497</td>\n",
       "    </tr>\n",
       "    <tr>\n",
       "      <th>49</th>\n",
       "      <td>100</td>\n",
       "      <td>692</td>\n",
       "      <td>49943</td>\n",
       "      <td>22.715318</td>\n",
       "      <td>[480p, 360p, 720p]</td>\n",
       "      <td>[chineese, english]</td>\n",
       "      <td>499.430000</td>\n",
       "      <td>-0.013413</td>\n",
       "    </tr>\n",
       "    <tr>\n",
       "      <th>50</th>\n",
       "      <td>100</td>\n",
       "      <td>688</td>\n",
       "      <td>48515</td>\n",
       "      <td>22.664244</td>\n",
       "      <td>[480p, 360p, 720p]</td>\n",
       "      <td>[chineese, english]</td>\n",
       "      <td>485.150000</td>\n",
       "      <td>-0.028593</td>\n",
       "    </tr>\n",
       "    <tr>\n",
       "      <th>51</th>\n",
       "      <td>100</td>\n",
       "      <td>693</td>\n",
       "      <td>47323</td>\n",
       "      <td>22.704185</td>\n",
       "      <td>[480p, 360p, 720p]</td>\n",
       "      <td>[chineese, english]</td>\n",
       "      <td>473.230000</td>\n",
       "      <td>-0.024570</td>\n",
       "    </tr>\n",
       "    <tr>\n",
       "      <th>52</th>\n",
       "      <td>100</td>\n",
       "      <td>692</td>\n",
       "      <td>45062</td>\n",
       "      <td>22.689306</td>\n",
       "      <td>[480p, 360p, 720p]</td>\n",
       "      <td>[chineese, english]</td>\n",
       "      <td>450.620000</td>\n",
       "      <td>-0.047778</td>\n",
       "    </tr>\n",
       "    <tr>\n",
       "      <th rowspan=\"9\" valign=\"top\">2018</th>\n",
       "      <th>1</th>\n",
       "      <td>100</td>\n",
       "      <td>664</td>\n",
       "      <td>41963</td>\n",
       "      <td>22.759036</td>\n",
       "      <td>[480p, 360p, 1080p]</td>\n",
       "      <td>[chineese, spanish]</td>\n",
       "      <td>419.630000</td>\n",
       "      <td>-0.068772</td>\n",
       "    </tr>\n",
       "    <tr>\n",
       "      <th>2</th>\n",
       "      <td>92</td>\n",
       "      <td>587</td>\n",
       "      <td>35322</td>\n",
       "      <td>22.889267</td>\n",
       "      <td>[480p, 360p, 720p]</td>\n",
       "      <td>[chineese, english]</td>\n",
       "      <td>383.934783</td>\n",
       "      <td>-0.085064</td>\n",
       "    </tr>\n",
       "    <tr>\n",
       "      <th>3</th>\n",
       "      <td>77</td>\n",
       "      <td>495</td>\n",
       "      <td>28257</td>\n",
       "      <td>23.101010</td>\n",
       "      <td>[480p, 360p, 240p]</td>\n",
       "      <td>[chineese, english]</td>\n",
       "      <td>366.974026</td>\n",
       "      <td>-0.044176</td>\n",
       "    </tr>\n",
       "    <tr>\n",
       "      <th>4</th>\n",
       "      <td>63</td>\n",
       "      <td>386</td>\n",
       "      <td>21318</td>\n",
       "      <td>23.139896</td>\n",
       "      <td>[480p, 360p, 240p]</td>\n",
       "      <td>[chineese, english]</td>\n",
       "      <td>338.380952</td>\n",
       "      <td>-0.077916</td>\n",
       "    </tr>\n",
       "    <tr>\n",
       "      <th>5</th>\n",
       "      <td>49</td>\n",
       "      <td>313</td>\n",
       "      <td>17046</td>\n",
       "      <td>23.047923</td>\n",
       "      <td>[360p, 480p, 240p]</td>\n",
       "      <td>[chineese, spanish]</td>\n",
       "      <td>347.877551</td>\n",
       "      <td>0.028065</td>\n",
       "    </tr>\n",
       "    <tr>\n",
       "      <th>6</th>\n",
       "      <td>39</td>\n",
       "      <td>213</td>\n",
       "      <td>11502</td>\n",
       "      <td>22.976526</td>\n",
       "      <td>[360p, 480p, 720p]</td>\n",
       "      <td>[chineese, english]</td>\n",
       "      <td>294.923077</td>\n",
       "      <td>-0.152222</td>\n",
       "    </tr>\n",
       "    <tr>\n",
       "      <th>7</th>\n",
       "      <td>22</td>\n",
       "      <td>133</td>\n",
       "      <td>7724</td>\n",
       "      <td>22.887218</td>\n",
       "      <td>[360p, 480p, 1080p]</td>\n",
       "      <td>[spanish, chineese]</td>\n",
       "      <td>351.090909</td>\n",
       "      <td>0.190449</td>\n",
       "    </tr>\n",
       "    <tr>\n",
       "      <th>8</th>\n",
       "      <td>15</td>\n",
       "      <td>58</td>\n",
       "      <td>2995</td>\n",
       "      <td>22.948276</td>\n",
       "      <td>[480p, 720p, 360p]</td>\n",
       "      <td>[english, chineese]</td>\n",
       "      <td>199.666667</td>\n",
       "      <td>-0.431296</td>\n",
       "    </tr>\n",
       "    <tr>\n",
       "      <th>9</th>\n",
       "      <td>3</td>\n",
       "      <td>5</td>\n",
       "      <td>214</td>\n",
       "      <td>24.000000</td>\n",
       "      <td>[240p, 480p, 720p]</td>\n",
       "      <td>[english, chineese]</td>\n",
       "      <td>71.333333</td>\n",
       "      <td>-0.642738</td>\n",
       "    </tr>\n",
       "  </tbody>\n",
       "</table>\n",
       "</div>"
      ],
      "text/plain": [
       "           video_id_count  video_rows_count  count  video_length  \\\n",
       "year week                                                          \n",
       "2017 35                 3                 3    285     20.333333   \n",
       "     36                10                38   3934     21.815789   \n",
       "     37                26               127  12690     21.771654   \n",
       "     38                38               222  22525     21.797297   \n",
       "     39                52               317  31835     22.104101   \n",
       "     40                64               401  37431     22.416459   \n",
       "     41                79               507  47457     22.623274   \n",
       "     42                88               575  50930     22.685217   \n",
       "     43                98               655  58639     22.638168   \n",
       "     44               100               685  58724     22.670073   \n",
       "     45               100               682  55615     22.760997   \n",
       "     46               100               691  55716     22.746744   \n",
       "     47               100               693  54228     22.721501   \n",
       "     48               100               688  50622     22.718023   \n",
       "     49               100               692  49943     22.715318   \n",
       "     50               100               688  48515     22.664244   \n",
       "     51               100               693  47323     22.704185   \n",
       "     52               100               692  45062     22.689306   \n",
       "2018 1                100               664  41963     22.759036   \n",
       "     2                 92               587  35322     22.889267   \n",
       "     3                 77               495  28257     23.101010   \n",
       "     4                 63               386  21318     23.139896   \n",
       "     5                 49               313  17046     23.047923   \n",
       "     6                 39               213  11502     22.976526   \n",
       "     7                 22               133   7724     22.887218   \n",
       "     8                 15                58   2995     22.948276   \n",
       "     9                  3                 5    214     24.000000   \n",
       "\n",
       "                 video_quality       video_language  mean_views_for_video  \\\n",
       "year week                                                                   \n",
       "2017 35           [480p, 720p]  [english, chineese]             95.000000   \n",
       "     36     [480p, 720p, 240p]   [english, spanish]            393.400000   \n",
       "     37    [480p, 360p, 1080p]   [spanish, english]            488.076923   \n",
       "     38    [480p, 1080p, 360p]  [spanish, chineese]            592.763158   \n",
       "     39    [480p, 1080p, 360p]  [chineese, english]            612.211538   \n",
       "     40    [480p, 360p, 1080p]  [english, chineese]            584.859375   \n",
       "     41     [480p, 360p, 240p]  [chineese, english]            600.721519   \n",
       "     42     [480p, 360p, 240p]  [chineese, english]            578.750000   \n",
       "     43     [480p, 360p, 720p]  [chineese, english]            598.357143   \n",
       "     44     [480p, 360p, 720p]  [chineese, english]            587.240000   \n",
       "     45     [480p, 360p, 720p]  [chineese, english]            556.150000   \n",
       "     46     [480p, 360p, 720p]  [chineese, english]            557.160000   \n",
       "     47     [480p, 360p, 720p]  [chineese, english]            542.280000   \n",
       "     48     [480p, 360p, 720p]  [chineese, english]            506.220000   \n",
       "     49     [480p, 360p, 720p]  [chineese, english]            499.430000   \n",
       "     50     [480p, 360p, 720p]  [chineese, english]            485.150000   \n",
       "     51     [480p, 360p, 720p]  [chineese, english]            473.230000   \n",
       "     52     [480p, 360p, 720p]  [chineese, english]            450.620000   \n",
       "2018 1     [480p, 360p, 1080p]  [chineese, spanish]            419.630000   \n",
       "     2      [480p, 360p, 720p]  [chineese, english]            383.934783   \n",
       "     3      [480p, 360p, 240p]  [chineese, english]            366.974026   \n",
       "     4      [480p, 360p, 240p]  [chineese, english]            338.380952   \n",
       "     5      [360p, 480p, 240p]  [chineese, spanish]            347.877551   \n",
       "     6      [360p, 480p, 720p]  [chineese, english]            294.923077   \n",
       "     7     [360p, 480p, 1080p]  [spanish, chineese]            351.090909   \n",
       "     8      [480p, 720p, 360p]  [english, chineese]            199.666667   \n",
       "     9      [240p, 480p, 720p]  [english, chineese]             71.333333   \n",
       "\n",
       "           mean_views_for_video_pct_change  \n",
       "year week                                   \n",
       "2017 35                                NaN  \n",
       "     36                           3.141053  \n",
       "     37                           0.240663  \n",
       "     38                           0.214487  \n",
       "     39                           0.032810  \n",
       "     40                          -0.044678  \n",
       "     41                           0.027121  \n",
       "     42                          -0.036575  \n",
       "     43                           0.033878  \n",
       "     44                          -0.018579  \n",
       "     45                          -0.052943  \n",
       "     46                           0.001816  \n",
       "     47                          -0.026707  \n",
       "     48                          -0.066497  \n",
       "     49                          -0.013413  \n",
       "     50                          -0.028593  \n",
       "     51                          -0.024570  \n",
       "     52                          -0.047778  \n",
       "2018 1                           -0.068772  \n",
       "     2                           -0.085064  \n",
       "     3                           -0.044176  \n",
       "     4                           -0.077916  \n",
       "     5                            0.028065  \n",
       "     6                           -0.152222  \n",
       "     7                            0.190449  \n",
       "     8                           -0.431296  \n",
       "     9                           -0.642738  "
      ]
     },
     "execution_count": 47,
     "metadata": {},
     "output_type": "execute_result"
    }
   ],
   "source": [
    "df_group_by_year_week = df_temp.groupby([df_temp['date'].dt.isocalendar().year,df_temp['date'].dt.isocalendar().week]).agg(\n",
    "    {\n",
    "        \n",
    "        'video_id_count':lambda x: len(x.value_counts().index.unique()),\n",
    "        'video_rows_count':'count',\n",
    "        'count': 'sum',\n",
    "        'video_length': 'mean',\n",
    "        'video_quality':lambda x: x.value_counts().index[0:3],\n",
    "        'video_language':lambda x: x.value_counts().index[0:2]\n",
    "        \n",
    "    }\n",
    ")\n",
    "df_group_by_year_week['mean_views_for_video'] = df_group_by_year_week['count'] / df_group_by_year_week['video_id_count']\n",
    "df_group_by_year_week['mean_views_for_video_pct_change'] = df_group_by_year_week['mean_views_for_video'].pct_change()\n",
    "df_group_by_year_week"
   ]
  },
  {
   "cell_type": "markdown",
   "id": "d77cdfaa",
   "metadata": {},
   "source": [
    "Overall, the website reached a week with 58724 total views, and from that point on, fewer videos were viewed."
   ]
  },
  {
   "cell_type": "code",
   "execution_count": 48,
   "id": "0df228e4",
   "metadata": {
    "scrolled": true
   },
   "outputs": [
    {
     "data": {
      "text/plain": [
       "<AxesSubplot:xlabel='year,week'>"
      ]
     },
     "execution_count": 48,
     "metadata": {},
     "output_type": "execute_result"
    },
    {
     "data": {
      "image/png": "[encoded data removed]",
      "text/plain": [
       "<Figure size 432x288 with 1 Axes>"
      ]
     },
     "metadata": {},
     "output_type": "display_data"
    }
   ],
   "source": [
    "df_group_by_year_week['count'].plot()"
   ]
  },
  {
   "cell_type": "markdown",
   "id": "94e060b4",
   "metadata": {},
   "source": [
    "Despite the decrease, we want to see if anything has improved over time.<br>\n",
    "The column of the average total views for the unique videos in that week shows that there has been an increase at the beginning and at the end of the analysis period."
   ]
  },
  {
   "cell_type": "code",
   "execution_count": 49,
   "id": "b3a05c22",
   "metadata": {
    "scrolled": false
   },
   "outputs": [
    {
     "data": {
      "text/plain": [
       "<AxesSubplot:xlabel='year,week'>"
      ]
     },
     "execution_count": 49,
     "metadata": {},
     "output_type": "execute_result"
    },
    {
     "data": {
      "image/png": "[encoded data removed]",
      "text/plain": [
       "<Figure size 432x288 with 1 Axes>"
      ]
     },
     "metadata": {},
     "output_type": "display_data"
    }
   ],
   "source": [
    "df_group_by_year_week['mean_views_for_video'].plot()"
   ]
  },
  {
   "cell_type": "markdown",
   "id": "8d0031c0",
   "metadata": {},
   "source": [
    "We can see it also in the percent change of the average total views for the unique videos in that week compared to the previous week"
   ]
  },
  {
   "cell_type": "code",
   "execution_count": 50,
   "id": "4a5e0ac3",
   "metadata": {
    "scrolled": false
   },
   "outputs": [
    {
     "data": {
      "text/plain": [
       "<AxesSubplot:xlabel='year,week'>"
      ]
     },
     "execution_count": 50,
     "metadata": {},
     "output_type": "execute_result"
    },
    {
     "data": {
      "image/png": "[encoded data removed]",
      "text/plain": [
       "<Figure size 432x288 with 1 Axes>"
      ]
     },
     "metadata": {},
     "output_type": "display_data"
    }
   ],
   "source": [
    "df_group_by_year_week['mean_views_for_video_pct_change'].plot()"
   ]
  },
  {
   "cell_type": "markdown",
   "id": "1d74babc",
   "metadata": {},
   "source": [
    "Next, let's look at the video's characteristics which caused positive percent changes during the weeks.\n",
    "\n",
    "In the top positive periods, Spanish was one of the most common languages.<br>\n",
    "It's important to keep in mind that the first period (36) does not count as the increase from the company's first week, and the following is due to the novelty effect.<br>\n",
    "But in week 7 of 2018, we can see that Spanish was the most viewed video language and percent was positive as well.<br>\n",
    "In addition, we do not have a week where Spanish was among the top 3 languages with a negative percentage.<br>\n",
    "From that conclusion, we can assume that Spanish has a positive effect on the views of the videos."
   ]
  },
  {
   "cell_type": "code",
   "execution_count": 51,
   "id": "52fc0d50",
   "metadata": {
    "scrolled": false
   },
   "outputs": [
    {
     "data": {
      "text/html": [
       "<div>\n",
       "<style scoped>\n",
       "    .dataframe tbody tr th:only-of-type {\n",
       "        vertical-align: middle;\n",
       "    }\n",
       "\n",
       "    .dataframe tbody tr th {\n",
       "        vertical-align: top;\n",
       "    }\n",
       "\n",
       "    .dataframe thead th {\n",
       "        text-align: right;\n",
       "    }\n",
       "</style>\n",
       "<table border=\"1\" class=\"dataframe\">\n",
       "  <thead>\n",
       "    <tr style=\"text-align: right;\">\n",
       "      <th></th>\n",
       "      <th></th>\n",
       "      <th>video_id_count</th>\n",
       "      <th>video_rows_count</th>\n",
       "      <th>count</th>\n",
       "      <th>video_length</th>\n",
       "      <th>video_quality</th>\n",
       "      <th>video_language</th>\n",
       "      <th>mean_views_for_video</th>\n",
       "      <th>mean_views_for_video_pct_change</th>\n",
       "    </tr>\n",
       "    <tr>\n",
       "      <th>year</th>\n",
       "      <th>week</th>\n",
       "      <th></th>\n",
       "      <th></th>\n",
       "      <th></th>\n",
       "      <th></th>\n",
       "      <th></th>\n",
       "      <th></th>\n",
       "      <th></th>\n",
       "      <th></th>\n",
       "    </tr>\n",
       "  </thead>\n",
       "  <tbody>\n",
       "    <tr>\n",
       "      <th rowspan=\"3\" valign=\"top\">2017</th>\n",
       "      <th>36</th>\n",
       "      <td>10</td>\n",
       "      <td>38</td>\n",
       "      <td>3934</td>\n",
       "      <td>21.815789</td>\n",
       "      <td>[480p, 720p, 240p]</td>\n",
       "      <td>[english, spanish]</td>\n",
       "      <td>393.400000</td>\n",
       "      <td>3.141053</td>\n",
       "    </tr>\n",
       "    <tr>\n",
       "      <th>37</th>\n",
       "      <td>26</td>\n",
       "      <td>127</td>\n",
       "      <td>12690</td>\n",
       "      <td>21.771654</td>\n",
       "      <td>[480p, 360p, 1080p]</td>\n",
       "      <td>[spanish, english]</td>\n",
       "      <td>488.076923</td>\n",
       "      <td>0.240663</td>\n",
       "    </tr>\n",
       "    <tr>\n",
       "      <th>38</th>\n",
       "      <td>38</td>\n",
       "      <td>222</td>\n",
       "      <td>22525</td>\n",
       "      <td>21.797297</td>\n",
       "      <td>[480p, 1080p, 360p]</td>\n",
       "      <td>[spanish, chineese]</td>\n",
       "      <td>592.763158</td>\n",
       "      <td>0.214487</td>\n",
       "    </tr>\n",
       "    <tr>\n",
       "      <th>2018</th>\n",
       "      <th>7</th>\n",
       "      <td>22</td>\n",
       "      <td>133</td>\n",
       "      <td>7724</td>\n",
       "      <td>22.887218</td>\n",
       "      <td>[360p, 480p, 1080p]</td>\n",
       "      <td>[spanish, chineese]</td>\n",
       "      <td>351.090909</td>\n",
       "      <td>0.190449</td>\n",
       "    </tr>\n",
       "    <tr>\n",
       "      <th rowspan=\"2\" valign=\"top\">2017</th>\n",
       "      <th>43</th>\n",
       "      <td>98</td>\n",
       "      <td>655</td>\n",
       "      <td>58639</td>\n",
       "      <td>22.638168</td>\n",
       "      <td>[480p, 360p, 720p]</td>\n",
       "      <td>[chineese, english]</td>\n",
       "      <td>598.357143</td>\n",
       "      <td>0.033878</td>\n",
       "    </tr>\n",
       "    <tr>\n",
       "      <th>39</th>\n",
       "      <td>52</td>\n",
       "      <td>317</td>\n",
       "      <td>31835</td>\n",
       "      <td>22.104101</td>\n",
       "      <td>[480p, 1080p, 360p]</td>\n",
       "      <td>[chineese, english]</td>\n",
       "      <td>612.211538</td>\n",
       "      <td>0.032810</td>\n",
       "    </tr>\n",
       "    <tr>\n",
       "      <th>2018</th>\n",
       "      <th>5</th>\n",
       "      <td>49</td>\n",
       "      <td>313</td>\n",
       "      <td>17046</td>\n",
       "      <td>23.047923</td>\n",
       "      <td>[360p, 480p, 240p]</td>\n",
       "      <td>[chineese, spanish]</td>\n",
       "      <td>347.877551</td>\n",
       "      <td>0.028065</td>\n",
       "    </tr>\n",
       "    <tr>\n",
       "      <th rowspan=\"2\" valign=\"top\">2017</th>\n",
       "      <th>41</th>\n",
       "      <td>79</td>\n",
       "      <td>507</td>\n",
       "      <td>47457</td>\n",
       "      <td>22.623274</td>\n",
       "      <td>[480p, 360p, 240p]</td>\n",
       "      <td>[chineese, english]</td>\n",
       "      <td>600.721519</td>\n",
       "      <td>0.027121</td>\n",
       "    </tr>\n",
       "    <tr>\n",
       "      <th>46</th>\n",
       "      <td>100</td>\n",
       "      <td>691</td>\n",
       "      <td>55716</td>\n",
       "      <td>22.746744</td>\n",
       "      <td>[480p, 360p, 720p]</td>\n",
       "      <td>[chineese, english]</td>\n",
       "      <td>557.160000</td>\n",
       "      <td>0.001816</td>\n",
       "    </tr>\n",
       "  </tbody>\n",
       "</table>\n",
       "</div>"
      ],
      "text/plain": [
       "           video_id_count  video_rows_count  count  video_length  \\\n",
       "year week                                                          \n",
       "2017 36                10                38   3934     21.815789   \n",
       "     37                26               127  12690     21.771654   \n",
       "     38                38               222  22525     21.797297   \n",
       "2018 7                 22               133   7724     22.887218   \n",
       "2017 43                98               655  58639     22.638168   \n",
       "     39                52               317  31835     22.104101   \n",
       "2018 5                 49               313  17046     23.047923   \n",
       "2017 41                79               507  47457     22.623274   \n",
       "     46               100               691  55716     22.746744   \n",
       "\n",
       "                 video_quality       video_language  mean_views_for_video  \\\n",
       "year week                                                                   \n",
       "2017 36     [480p, 720p, 240p]   [english, spanish]            393.400000   \n",
       "     37    [480p, 360p, 1080p]   [spanish, english]            488.076923   \n",
       "     38    [480p, 1080p, 360p]  [spanish, chineese]            592.763158   \n",
       "2018 7     [360p, 480p, 1080p]  [spanish, chineese]            351.090909   \n",
       "2017 43     [480p, 360p, 720p]  [chineese, english]            598.357143   \n",
       "     39    [480p, 1080p, 360p]  [chineese, english]            612.211538   \n",
       "2018 5      [360p, 480p, 240p]  [chineese, spanish]            347.877551   \n",
       "2017 41     [480p, 360p, 240p]  [chineese, english]            600.721519   \n",
       "     46     [480p, 360p, 720p]  [chineese, english]            557.160000   \n",
       "\n",
       "           mean_views_for_video_pct_change  \n",
       "year week                                   \n",
       "2017 36                           3.141053  \n",
       "     37                           0.240663  \n",
       "     38                           0.214487  \n",
       "2018 7                            0.190449  \n",
       "2017 43                           0.033878  \n",
       "     39                           0.032810  \n",
       "2018 5                            0.028065  \n",
       "2017 41                           0.027121  \n",
       "     46                           0.001816  "
      ]
     },
     "execution_count": 51,
     "metadata": {},
     "output_type": "execute_result"
    }
   ],
   "source": [
    "df_group_by_year_week['mean_views_for_video_pct_change'] = df_group_by_year_week['mean_views_for_video'].pct_change()\n",
    "df_group_by_year_week.sort_values('mean_views_for_video_pct_change',ascending=False).head(9)"
   ]
  },
  {
   "cell_type": "markdown",
   "id": "dffb3388",
   "metadata": {},
   "source": [
    "But it is hard to say it for 100% percent sure because if we will look at the top watched videos overall, Spanish was not among them. <br>\n",
    "It is just worth to mention that Spanish have the potential to cause a positive effect on the users."
   ]
  },
  {
   "cell_type": "code",
   "execution_count": 52,
   "id": "a793bff3",
   "metadata": {
    "scrolled": false
   },
   "outputs": [
    {
     "data": {
      "text/html": [
       "<div>\n",
       "<style scoped>\n",
       "    .dataframe tbody tr th:only-of-type {\n",
       "        vertical-align: middle;\n",
       "    }\n",
       "\n",
       "    .dataframe tbody tr th {\n",
       "        vertical-align: top;\n",
       "    }\n",
       "\n",
       "    .dataframe thead th {\n",
       "        text-align: right;\n",
       "    }\n",
       "</style>\n",
       "<table border=\"1\" class=\"dataframe\">\n",
       "  <thead>\n",
       "    <tr style=\"text-align: right;\">\n",
       "      <th></th>\n",
       "      <th></th>\n",
       "      <th>video_id_count</th>\n",
       "      <th>video_rows_count</th>\n",
       "      <th>count</th>\n",
       "      <th>video_length</th>\n",
       "      <th>video_quality</th>\n",
       "      <th>video_language</th>\n",
       "      <th>mean_views_for_video</th>\n",
       "      <th>mean_views_for_video_pct_change</th>\n",
       "    </tr>\n",
       "    <tr>\n",
       "      <th>year</th>\n",
       "      <th>week</th>\n",
       "      <th></th>\n",
       "      <th></th>\n",
       "      <th></th>\n",
       "      <th></th>\n",
       "      <th></th>\n",
       "      <th></th>\n",
       "      <th></th>\n",
       "      <th></th>\n",
       "    </tr>\n",
       "  </thead>\n",
       "  <tbody>\n",
       "    <tr>\n",
       "      <th rowspan=\"5\" valign=\"top\">2017</th>\n",
       "      <th>44</th>\n",
       "      <td>100</td>\n",
       "      <td>685</td>\n",
       "      <td>58724</td>\n",
       "      <td>22.670073</td>\n",
       "      <td>[480p, 360p, 720p]</td>\n",
       "      <td>[chineese, english]</td>\n",
       "      <td>587.240000</td>\n",
       "      <td>-0.018579</td>\n",
       "    </tr>\n",
       "    <tr>\n",
       "      <th>43</th>\n",
       "      <td>98</td>\n",
       "      <td>655</td>\n",
       "      <td>58639</td>\n",
       "      <td>22.638168</td>\n",
       "      <td>[480p, 360p, 720p]</td>\n",
       "      <td>[chineese, english]</td>\n",
       "      <td>598.357143</td>\n",
       "      <td>0.033878</td>\n",
       "    </tr>\n",
       "    <tr>\n",
       "      <th>46</th>\n",
       "      <td>100</td>\n",
       "      <td>691</td>\n",
       "      <td>55716</td>\n",
       "      <td>22.746744</td>\n",
       "      <td>[480p, 360p, 720p]</td>\n",
       "      <td>[chineese, english]</td>\n",
       "      <td>557.160000</td>\n",
       "      <td>0.001816</td>\n",
       "    </tr>\n",
       "    <tr>\n",
       "      <th>45</th>\n",
       "      <td>100</td>\n",
       "      <td>682</td>\n",
       "      <td>55615</td>\n",
       "      <td>22.760997</td>\n",
       "      <td>[480p, 360p, 720p]</td>\n",
       "      <td>[chineese, english]</td>\n",
       "      <td>556.150000</td>\n",
       "      <td>-0.052943</td>\n",
       "    </tr>\n",
       "    <tr>\n",
       "      <th>47</th>\n",
       "      <td>100</td>\n",
       "      <td>693</td>\n",
       "      <td>54228</td>\n",
       "      <td>22.721501</td>\n",
       "      <td>[480p, 360p, 720p]</td>\n",
       "      <td>[chineese, english]</td>\n",
       "      <td>542.280000</td>\n",
       "      <td>-0.026707</td>\n",
       "    </tr>\n",
       "  </tbody>\n",
       "</table>\n",
       "</div>"
      ],
      "text/plain": [
       "           video_id_count  video_rows_count  count  video_length  \\\n",
       "year week                                                          \n",
       "2017 44               100               685  58724     22.670073   \n",
       "     43                98               655  58639     22.638168   \n",
       "     46               100               691  55716     22.746744   \n",
       "     45               100               682  55615     22.760997   \n",
       "     47               100               693  54228     22.721501   \n",
       "\n",
       "                video_quality       video_language  mean_views_for_video  \\\n",
       "year week                                                                  \n",
       "2017 44    [480p, 360p, 720p]  [chineese, english]            587.240000   \n",
       "     43    [480p, 360p, 720p]  [chineese, english]            598.357143   \n",
       "     46    [480p, 360p, 720p]  [chineese, english]            557.160000   \n",
       "     45    [480p, 360p, 720p]  [chineese, english]            556.150000   \n",
       "     47    [480p, 360p, 720p]  [chineese, english]            542.280000   \n",
       "\n",
       "           mean_views_for_video_pct_change  \n",
       "year week                                   \n",
       "2017 44                          -0.018579  \n",
       "     43                           0.033878  \n",
       "     46                           0.001816  \n",
       "     45                          -0.052943  \n",
       "     47                          -0.026707  "
      ]
     },
     "execution_count": 52,
     "metadata": {},
     "output_type": "execute_result"
    }
   ],
   "source": [
    "df_group_by_year_week.sort_values('count',ascending=False).head()"
   ]
  },
  {
   "cell_type": "markdown",
   "id": "3b1612b5",
   "metadata": {},
   "source": [
    "### Quick summary of what we have until now:\n",
    "\n",
    "<ol>\n",
    "  <li>\n",
    "      Short videos are more popular.\n",
    "  </li>\n",
    "    <li>\n",
    "        Higher Quality is more popular.\n",
    "    </li>\n",
    "        <li>\n",
    "        English and Chinese are more popular (and Spanish might have a positive effect on the viewers).\n",
    "    </li>\n",
    "    \n",
    "</ol>\n",
    "\n"
   ]
  },
  {
   "cell_type": "markdown",
   "id": "d8a2770f",
   "metadata": {},
   "source": [
    "### Using an Unsupervised Algorithm to cluster the videos\n",
    "As we do not know in advance which video belongs to the Top, Good, or Else categories, we will use an Unsupervised Algorithm to verify our assumptions and conclusions throughout the analysis."
   ]
  },
  {
   "cell_type": "code",
   "execution_count": 53,
   "id": "12ee2b95",
   "metadata": {},
   "outputs": [],
   "source": [
    "df_cluster = df.groupby('video_id').agg({        \n",
    "        'count':'sum',\n",
    "        'video_length':'mean',\n",
    "        'video_language':lambda x: x.value_counts().index[0],\n",
    "        'video_quality':lambda x: x.value_counts().index[0]\n",
    "})"
   ]
  },
  {
   "cell_type": "code",
   "execution_count": 54,
   "id": "5e41d837",
   "metadata": {},
   "outputs": [
    {
     "name": "stdout",
     "output_type": "stream",
     "text": [
      "<class 'pandas.core.frame.DataFrame'>\n",
      "Int64Index: 100 entries, 1 to 100\n",
      "Data columns (total 4 columns):\n",
      " #   Column          Non-Null Count  Dtype  \n",
      "---  ------          --------------  -----  \n",
      " 0   count           100 non-null    int64  \n",
      " 1   video_length    100 non-null    float64\n",
      " 2   video_language  100 non-null    object \n",
      " 3   video_quality   100 non-null    object \n",
      "dtypes: float64(1), int64(1), object(2)\n",
      "memory usage: 3.9+ KB\n"
     ]
    }
   ],
   "source": [
    "df_cluster.info()"
   ]
  },
  {
   "cell_type": "code",
   "execution_count": 55,
   "id": "58b449f6",
   "metadata": {},
   "outputs": [],
   "source": [
    "categorical_columns = [i for i in range(len(np.array(df_cluster.dtypes))) if np.array(df_cluster.dtypes)[i]!=np.dtype('float64') and np.array(df_cluster.dtypes)[i]!=np.dtype('int64')] "
   ]
  },
  {
   "cell_type": "code",
   "execution_count": 56,
   "id": "8b296689",
   "metadata": {},
   "outputs": [
    {
     "name": "stdout",
     "output_type": "stream",
     "text": [
      "Initialization method and algorithm are deterministic. Setting n_init to 1.\n",
      "Best run was number 1\n",
      "Initialization method and algorithm are deterministic. Setting n_init to 1.\n",
      "Best run was number 1\n",
      "Initialization method and algorithm are deterministic. Setting n_init to 1.\n",
      "Best run was number 1\n",
      "Initialization method and algorithm are deterministic. Setting n_init to 1.\n",
      "Best run was number 1\n",
      "Initialization method and algorithm are deterministic. Setting n_init to 1.\n",
      "Best run was number 6\n",
      "Initialization method and algorithm are deterministic. Setting n_init to 1.\n",
      "Best run was number 1\n",
      "Initialization method and algorithm are deterministic. Setting n_init to 1.\n",
      "Best run was number 2\n",
      "Initialization method and algorithm are deterministic. Setting n_init to 1.\n",
      "Best run was number 10\n",
      "Initialization method and algorithm are deterministic. Setting n_init to 1.\n",
      "Best run was number 3\n"
     ]
    }
   ],
   "source": [
    "cost = []\n",
    "for num_clusters in list(range(1,10)):\n",
    "    kproto = KPrototypes(n_jobs = -1, n_clusters = num_clusters, init = 'Cao',verbose=1,max_iter=100,n_init=10)\n",
    "    kproto.fit_predict(df_cluster, categorical=categorical_columns)\n",
    "    cost.append(kproto.cost_)"
   ]
  },
  {
   "cell_type": "markdown",
   "id": "7ef45ba3",
   "metadata": {},
   "source": [
    "The elbow method shows that in 3 clusters, we get the proportion between minimizing the error (cost) and the clustering number (even though we know our target is 3)."
   ]
  },
  {
   "cell_type": "code",
   "execution_count": 57,
   "id": "0fc56025",
   "metadata": {
    "scrolled": false
   },
   "outputs": [
    {
     "data": {
      "text/plain": [
       "[<matplotlib.lines.Line2D at 0x7ff400295310>]"
      ]
     },
     "execution_count": 57,
     "metadata": {},
     "output_type": "execute_result"
    },
    {
     "data": {
      "image/png": "[encoded data removed]",
      "text/plain": [
       "<Figure size 1152x576 with 1 Axes>"
      ]
     },
     "metadata": {},
     "output_type": "display_data"
    }
   ],
   "source": [
    "plt.figure(figsize=(16,8))\n",
    "plt.xlabel('k')\n",
    "plt.ylabel('Cost')\n",
    "plt.title('The Elbow Method showing the optimal k')\n",
    "plt.plot(list(range(1,10)), cost, 'bx-')"
   ]
  },
  {
   "cell_type": "code",
   "execution_count": 58,
   "id": "a7f3dba8",
   "metadata": {
    "scrolled": true
   },
   "outputs": [
    {
     "name": "stdout",
     "output_type": "stream",
     "text": [
      "Initialization method and algorithm are deterministic. Setting n_init to 1.\n",
      "Best run was number 1\n"
     ]
    }
   ],
   "source": [
    "kproto = KPrototypes(n_jobs = -1, n_clusters = 3, init = 'Cao',verbose=1,max_iter=100,n_init=10)\n",
    "clusters = kproto.fit_predict(df_cluster, categorical=categorical_columns)"
   ]
  },
  {
   "cell_type": "markdown",
   "id": "a90be4be",
   "metadata": {},
   "source": [
    "Our assumptions have been confirmed. Among the top videos, there were an average of 12.5K views the most compared to the other videos, they lasted for a short period of time, were mostly in English, and were in 720p quality."
   ]
  },
  {
   "cell_type": "code",
   "execution_count": 59,
   "id": "d1a7b2d1",
   "metadata": {},
   "outputs": [
    {
     "name": "stdout",
     "output_type": "stream",
     "text": [
      "[['8805.081081081082' '22.89189189189189' 'spanish' '360p']\n",
      " ['5296.733333333334' '27.966666666666665' 'chineese' '480p']\n",
      " ['12518.939393939394' '17.696969696969695' 'english' '720p']]\n"
     ]
    }
   ],
   "source": [
    "print(kproto.cluster_centroids_)"
   ]
  },
  {
   "cell_type": "code",
   "execution_count": 60,
   "id": "ba95dd19",
   "metadata": {},
   "outputs": [],
   "source": [
    "df_cluster['clusters'] = clusters"
   ]
  },
  {
   "cell_type": "code",
   "execution_count": 61,
   "id": "8035ce10",
   "metadata": {
    "scrolled": true
   },
   "outputs": [
    {
     "data": {
      "image/png": "[encoded data removed]",
      "text/plain": [
       "<Figure size 1440x720 with 1 Axes>"
      ]
     },
     "metadata": {},
     "output_type": "display_data"
    }
   ],
   "source": [
    "#Preprocessing numerical\n",
    "numerical = df_cluster.select_dtypes(exclude =['bool','object'])\n",
    "\n",
    "##preprocessing categorical\n",
    "categorical = df_cluster.select_dtypes(include=['object','bool'])\n",
    "categorical = pd.get_dummies(categorical)\n",
    "\n",
    "#Percentage of columns which are categorical is used as weight parameter in embeddings later\n",
    "categorical_weight = len(df_cluster.select_dtypes(include='object').columns) / df_cluster.shape[1]\n",
    "\n",
    "#Embedding numerical & categorical\n",
    "fit1 = umap.UMAP(metric='l2').fit(numerical)\n",
    "fit2 = umap.UMAP(metric='dice').fit(categorical)\n",
    "\n",
    "\n",
    "#Augmenting the numerical embedding with categorical\n",
    "intersection = umap.general_simplicial_set_intersection(fit1.graph_, fit2.graph_, weight=categorical_weight)\n",
    "intersection = umap.reset_local_connectivity(intersection)\n",
    "\n",
    "embedding = umap.simplicial_set_embedding(data=fit1._raw_data,graph=intersection,n_components=fit1.n_components,initial_alpha=fit1._initial_alpha,a=fit1._a,b=fit1._b,gamma=fit1.repulsion_strength,n_epochs=200,init='random',random_state=np.random,metric=fit1.metric,densmap=False,negative_sample_rate=fit1.negative_sample_rate,densmap_kwds=fit1._metric_kwds,metric_kwds=fit1.metric_kwds,output_dens=fit1.output_dens)\n",
    "embedding1=embedding[0]\n",
    "\n",
    "plt.figure(figsize=(20, 10))\n",
    "plt.scatter(*embedding1.T, s=2, cmap='Spectral', alpha=1.0)\n",
    "plt.show()"
   ]
  },
  {
   "cell_type": "code",
   "execution_count": 62,
   "id": "8ad79a55",
   "metadata": {
    "scrolled": true
   },
   "outputs": [
    {
     "data": {
      "text/plain": [
       "<matplotlib.legend.Legend at 0x7ff434450bb0>"
      ]
     },
     "execution_count": 62,
     "metadata": {},
     "output_type": "execute_result"
    },
    {
     "data": {
      "image/png": "[encoded data removed]",
      "text/plain": [
       "<Figure size 1440x720 with 1 Axes>"
      ]
     },
     "metadata": {},
     "output_type": "display_data"
    }
   ],
   "source": [
    "fig, ax = plt.subplots()\n",
    "fig.set_size_inches((20, 10))\n",
    "scatter = ax.scatter(embedding1[:, 0], embedding1[:, 1], s=2, c=clusters, cmap='tab20b', alpha=1.0)\n",
    "\n",
    "# produce a legend with the unique colors from the scatter\n",
    "legend1 = ax.legend(*scatter.legend_elements(num=2),\n",
    "                    loc=\"lower left\", title=\"Classes\")\n",
    "ax.add_artist(legend1)"
   ]
  },
  {
   "cell_type": "code",
   "execution_count": 67,
   "id": "e1bf581b",
   "metadata": {},
   "outputs": [],
   "source": [
    "df_cluster.replace({'clusters':{0:'else',1:'top',2:'good'}},inplace=True)"
   ]
  },
  {
   "cell_type": "markdown",
   "id": "798c2a88",
   "metadata": {},
   "source": [
    "This table summarizes the characteristics of each cluster (top, good, else)."
   ]
  },
  {
   "cell_type": "code",
   "execution_count": 68,
   "id": "a239b2db",
   "metadata": {},
   "outputs": [
    {
     "data": {
      "text/html": [
       "<div>\n",
       "<style scoped>\n",
       "    .dataframe tbody tr th:only-of-type {\n",
       "        vertical-align: middle;\n",
       "    }\n",
       "\n",
       "    .dataframe tbody tr th {\n",
       "        vertical-align: top;\n",
       "    }\n",
       "\n",
       "    .dataframe thead th {\n",
       "        text-align: right;\n",
       "    }\n",
       "</style>\n",
       "<table border=\"1\" class=\"dataframe\">\n",
       "  <thead>\n",
       "    <tr style=\"text-align: right;\">\n",
       "      <th></th>\n",
       "      <th>video_id</th>\n",
       "      <th>count</th>\n",
       "      <th>video_length</th>\n",
       "      <th>video_language</th>\n",
       "      <th>video_quality</th>\n",
       "    </tr>\n",
       "    <tr>\n",
       "      <th>clusters</th>\n",
       "      <th></th>\n",
       "      <th></th>\n",
       "      <th></th>\n",
       "      <th></th>\n",
       "      <th></th>\n",
       "    </tr>\n",
       "  </thead>\n",
       "  <tbody>\n",
       "    <tr>\n",
       "      <th>else</th>\n",
       "      <td>30</td>\n",
       "      <td>5296.733333</td>\n",
       "      <td>27.966667</td>\n",
       "      <td>chineese</td>\n",
       "      <td>[480p, 240p]</td>\n",
       "    </tr>\n",
       "    <tr>\n",
       "      <th>good</th>\n",
       "      <td>33</td>\n",
       "      <td>12518.939394</td>\n",
       "      <td>17.696970</td>\n",
       "      <td>english</td>\n",
       "      <td>[720p, 1080p]</td>\n",
       "    </tr>\n",
       "    <tr>\n",
       "      <th>top</th>\n",
       "      <td>37</td>\n",
       "      <td>8805.081081</td>\n",
       "      <td>22.891892</td>\n",
       "      <td>spanish</td>\n",
       "      <td>[360p, 480p]</td>\n",
       "    </tr>\n",
       "  </tbody>\n",
       "</table>\n",
       "</div>"
      ],
      "text/plain": [
       "          video_id         count  video_length video_language  video_quality\n",
       "clusters                                                                    \n",
       "else            30   5296.733333     27.966667       chineese   [480p, 240p]\n",
       "good            33  12518.939394     17.696970        english  [720p, 1080p]\n",
       "top             37   8805.081081     22.891892        spanish   [360p, 480p]"
      ]
     },
     "execution_count": 68,
     "metadata": {},
     "output_type": "execute_result"
    },
    {
     "name": "stdout",
     "output_type": "stream",
     "text": [
      "Init: initializing centroids\n",
      "Init: initializing clusters\n",
      "Starting iterations...\n",
      "Run: 4, iteration: 1/100, moves: 0, ncost: 942030475.2494999\n",
      "Init: initializing centroids\n",
      "Init: initializing clusters\n",
      "Starting iterations...\n",
      "Run: 10, iteration: 1/100, moves: 23, ncost: 296265819.8470578\n",
      "Run: 10, iteration: 2/100, moves: 10, ncost: 281599669.7852548\n",
      "Run: 10, iteration: 3/100, moves: 2, ncost: 280730651.71258557\n",
      "Run: 10, iteration: 4/100, moves: 0, ncost: 280730651.71258557\n",
      "Init: initializing centroids\n",
      "Init: initializing clusters\n",
      "Starting iterations...\n",
      "Run: 4, iteration: 1/100, moves: 1, ncost: 124605877.86055334\n",
      "Run: 4, iteration: 2/100, moves: 0, ncost: 124605877.86055334\n",
      "Init: initializing centroids\n",
      "Init: initializing clusters\n",
      "Starting iterations...\n",
      "Run: 9, iteration: 1/100, moves: 11, ncost: 123264183.96278308\n",
      "Run: 9, iteration: 2/100, moves: 5, ncost: 121070971.7932397\n",
      "Run: 9, iteration: 3/100, moves: 2, ncost: 120576102.881602\n",
      "Run: 9, iteration: 4/100, moves: 0, ncost: 120576102.881602\n",
      "Init: initializing centroids\n",
      "Init: initializing clusters\n",
      "Starting iterations...\n",
      "Run: 8, iteration: 1/100, moves: 3, ncost: 75661584.42253746\n",
      "Run: 8, iteration: 2/100, moves: 0, ncost: 75661584.42253746\n",
      "Init: initializing centroids\n",
      "Init: initializing clusters\n",
      "Starting iterations...\n",
      "Run: 7, iteration: 1/100, moves: 19, ncost: 48629393.01124558\n",
      "Run: 7, iteration: 2/100, moves: 8, ncost: 42617086.79131192\n",
      "Run: 7, iteration: 3/100, moves: 1, ncost: 42150817.59145517\n",
      "Run: 7, iteration: 4/100, moves: 1, ncost: 41677289.53371576\n",
      "Run: 7, iteration: 5/100, moves: 2, ncost: 41315421.81488362\n",
      "Run: 7, iteration: 6/100, moves: 0, ncost: 41315421.81488362\n",
      "Init: initializing centroids\n",
      "Init: initializing clusters\n",
      "Starting iterations...\n",
      "Run: 3, iteration: 1/100, moves: 11, ncost: 70731841.82014564\n",
      "Run: 3, iteration: 2/100, moves: 20, ncost: 58554064.871344194\n",
      "Run: 3, iteration: 3/100, moves: 17, ncost: 41790783.26161649\n",
      "Run: 3, iteration: 4/100, moves: 8, ncost: 36767686.74565246\n",
      "Run: 3, iteration: 5/100, moves: 9, ncost: 29986429.953120008\n",
      "Run: 3, iteration: 6/100, moves: 2, ncost: 29216141.871504273\n",
      "Run: 3, iteration: 7/100, moves: 1, ncost: 28742613.813764874\n",
      "Run: 3, iteration: 8/100, moves: 2, ncost: 28380746.094932765\n",
      "Run: 3, iteration: 9/100, moves: 0, ncost: 28380746.094932765\n",
      "Init: initializing centroids\n",
      "Init: initializing clusters\n",
      "Starting iterations...\n",
      "Run: 2, iteration: 1/100, moves: 4, ncost: 20496115.51767275\n",
      "Run: 2, iteration: 2/100, moves: 2, ncost: 19988452.92882382\n",
      "Run: 2, iteration: 3/100, moves: 1, ncost: 19816460.500939213\n",
      "Run: 2, iteration: 4/100, moves: 0, ncost: 19816460.500939213\n",
      "Init: initializing centroids\n",
      "Init: initializing clusters\n",
      "Starting iterations...\n",
      "Run: 9, iteration: 1/100, moves: 12, ncost: 29451923.568189908\n",
      "Run: 9, iteration: 2/100, moves: 8, ncost: 27624684.731308054\n",
      "Run: 9, iteration: 3/100, moves: 3, ncost: 27307093.305341844\n",
      "Run: 9, iteration: 4/100, moves: 0, ncost: 27307093.305341844\n",
      "Init: initializing centroids\n",
      "Init: initializing clusters\n",
      "Starting iterations...\n",
      "Run: 5, iteration: 1/100, moves: 18, ncost: 21815930.557689074\n",
      "Run: 5, iteration: 2/100, moves: 4, ncost: 20172586.566014502\n",
      "Run: 5, iteration: 3/100, moves: 3, ncost: 19688917.18666965\n",
      "Run: 5, iteration: 4/100, moves: 0, ncost: 19688917.18666965\n",
      "Init: initializing centroids\n",
      "Init: initializing clusters\n",
      "Starting iterations...\n",
      "Run: 3, iteration: 1/100, moves: 25, ncost: 19608863.58097749\n",
      "Run: 3, iteration: 2/100, moves: 12, ncost: 13445104.559020922\n",
      "Run: 3, iteration: 3/100, moves: 4, ncost: 12327415.284861589\n",
      "Run: 3, iteration: 4/100, moves: 2, ncost: 12028940.759182334\n",
      "Run: 3, iteration: 5/100, moves: 1, ncost: 11622480.844168007\n",
      "Run: 3, iteration: 6/100, moves: 3, ncost: 11215441.108738763\n",
      "Run: 3, iteration: 7/100, moves: 0, ncost: 11215441.108738763\n",
      "Init: initializing centroids\n",
      "Init: initializing clusters\n",
      "Starting iterations...\n",
      "Run: 3, iteration: 1/100, moves: 16, ncost: 208335161.1004753\n",
      "Run: 3, iteration: 2/100, moves: 20, ncost: 151459390.81735182\n",
      "Run: 3, iteration: 3/100, moves: 17, ncost: 122710132.00455219\n",
      "Run: 3, iteration: 4/100, moves: 4, ncost: 120576102.881602\n",
      "Run: 3, iteration: 5/100, moves: 0, ncost: 120576102.881602\n",
      "Init: initializing centroids\n",
      "Init: initializing clusters\n",
      "Starting iterations...\n",
      "Run: 7, iteration: 1/100, moves: 0, ncost: 942030475.2494999\n",
      "Init: initializing centroids\n",
      "Init: initializing clusters\n",
      "Starting iterations...\n",
      "Run: 2, iteration: 1/100, moves: 6, ncost: 281599669.7852548\n",
      "Run: 2, iteration: 2/100, moves: 2, ncost: 280730651.71258557\n",
      "Run: 2, iteration: 3/100, moves: 0, ncost: 280730651.71258557\n",
      "Init: initializing centroids\n",
      "Init: initializing clusters\n",
      "Starting iterations...\n",
      "Run: 1, iteration: 1/100, moves: 1, ncost: 120773463.77012612\n",
      "Run: 1, iteration: 2/100, moves: 1, ncost: 120576102.881602\n",
      "Run: 1, iteration: 3/100, moves: 0, ncost: 120576102.881602\n",
      "Init: initializing centroids\n",
      "Init: initializing clusters\n",
      "Starting iterations...\n",
      "Run: 10, iteration: 1/100, moves: 9, ncost: 124282069.25491987\n",
      "Run: 10, iteration: 2/100, moves: 1, ncost: 123567390.65550901\n",
      "Run: 10, iteration: 3/100, moves: 2, ncost: 122147700.13923477\n",
      "Run: 10, iteration: 4/100, moves: 3, ncost: 120774197.06808399\n",
      "Run: 10, iteration: 5/100, moves: 1, ncost: 120576102.881602\n",
      "Run: 10, iteration: 6/100, moves: 0, ncost: 120576102.881602\n",
      "Init: initializing centroids\n",
      "Init: initializing clusters\n",
      "Starting iterations...\n",
      "Run: 3, iteration: 1/100, moves: 18, ncost: 90531574.53896789\n",
      "Run: 3, iteration: 2/100, moves: 10, ncost: 80780277.91329204\n",
      "Run: 3, iteration: 3/100, moves: 4, ncost: 79749669.725411\n",
      "Run: 3, iteration: 4/100, moves: 0, ncost: 79749669.725411\n",
      "Init: initializing centroids\n",
      "Init: initializing clusters\n",
      "Starting iterations...\n",
      "Run: 6, iteration: 1/100, moves: 16, ncost: 70646518.00647075\n",
      "Run: 6, iteration: 2/100, moves: 16, ncost: 54719727.142261386\n",
      "Run: 6, iteration: 3/100, moves: 8, ncost: 49702362.46560334\n",
      "Run: 6, iteration: 4/100, moves: 9, ncost: 42921105.67307089\n",
      "Run: 6, iteration: 5/100, moves: 2, ncost: 42150817.59145517\n",
      "Run: 6, iteration: 6/100, moves: 1, ncost: 41677289.53371576\n",
      "Run: 6, iteration: 7/100, moves: 2, ncost: 41315421.81488362\n",
      "Run: 6, iteration: 8/100, moves: 0, ncost: 41315421.81488362\n",
      "Init: initializing centroids\n",
      "Init: initializing clusters\n",
      "Starting iterations...\n",
      "Run: 2, iteration: 1/100, moves: 23, ncost: 37682198.76928927\n",
      "Run: 2, iteration: 2/100, moves: 9, ncost: 31195049.819700934\n",
      "Run: 2, iteration: 3/100, moves: 2, ncost: 30107263.228990637\n",
      "Run: 2, iteration: 4/100, moves: 2, ncost: 29747042.294041805\n",
      "Run: 2, iteration: 5/100, moves: 0, ncost: 29747042.294041805\n",
      "Init: initializing centroids\n",
      "Init: initializing clusters\n",
      "Starting iterations...\n",
      "Run: 5, iteration: 1/100, moves: 25, ncost: 39342992.2669944\n",
      "Run: 5, iteration: 2/100, moves: 17, ncost: 28072702.81299618\n",
      "Run: 5, iteration: 3/100, moves: 11, ncost: 23597037.500418276\n",
      "Run: 5, iteration: 4/100, moves: 6, ncost: 21868823.530333485\n",
      "Run: 5, iteration: 5/100, moves: 6, ncost: 21009441.25939801\n",
      "Run: 5, iteration: 6/100, moves: 0, ncost: 21009441.25939801\n",
      "Init: initializing centroids\n",
      "Init: initializing clusters\n",
      "Starting iterations...\n",
      "Run: 7, iteration: 1/100, moves: 25, ncost: 57965226.591139786\n",
      "Run: 7, iteration: 2/100, moves: 13, ncost: 47030701.655785374\n",
      "Run: 7, iteration: 3/100, moves: 16, ncost: 35644658.64166981\n",
      "Run: 7, iteration: 4/100, moves: 10, ncost: 28875668.945145518\n",
      "Run: 7, iteration: 5/100, moves: 5, ncost: 25780344.16097142\n",
      "Run: 7, iteration: 6/100, moves: 1, ncost: 25314074.961114656\n",
      "Run: 7, iteration: 7/100, moves: 1, ncost: 24840546.903375264\n",
      "Run: 7, iteration: 8/100, moves: 2, ncost: 24478679.184543155\n",
      "Run: 7, iteration: 9/100, moves: 0, ncost: 24478679.184543155\n",
      "Init: initializing centroids\n",
      "Init: initializing clusters\n",
      "Starting iterations...\n",
      "Run: 2, iteration: 1/100, moves: 17, ncost: 25678465.746954698\n",
      "Run: 2, iteration: 2/100, moves: 16, ncost: 18976562.45905147\n",
      "Run: 2, iteration: 3/100, moves: 7, ncost: 17715010.637216598\n",
      "Run: 2, iteration: 4/100, moves: 3, ncost: 17325326.05144648\n",
      "Run: 2, iteration: 5/100, moves: 6, ncost: 15727744.247562706\n",
      "Run: 2, iteration: 6/100, moves: 6, ncost: 14195926.288543254\n",
      "Run: 2, iteration: 7/100, moves: 3, ncost: 13863441.637247624\n",
      "Run: 2, iteration: 8/100, moves: 1, ncost: 13456981.722233295\n",
      "Run: 2, iteration: 9/100, moves: 3, ncost: 13049941.98680405\n",
      "Run: 2, iteration: 10/100, moves: 0, ncost: 13049941.98680405\n",
      "Init: initializing centroids\n",
      "Init: initializing clusters\n",
      "Starting iterations...\n",
      "Run: 4, iteration: 1/100, moves: 11, ncost: 124282069.25491987\n",
      "Run: 4, iteration: 2/100, moves: 1, ncost: 123567390.65550901\n",
      "Run: 4, iteration: 3/100, moves: 2, ncost: 122147700.13923477\n",
      "Run: 4, iteration: 4/100, moves: 3, ncost: 120774197.06808399\n",
      "Run: 4, iteration: 5/100, moves: 1, ncost: 120576102.881602\n",
      "Run: 4, iteration: 6/100, moves: 0, ncost: 120576102.881602\n",
      "Init: initializing centroids\n",
      "Init: initializing clusters\n",
      "Starting iterations...\n",
      "Run: 6, iteration: 1/100, moves: 0, ncost: 942030475.2494999\n",
      "Init: initializing centroids\n",
      "Init: initializing clusters\n",
      "Starting iterations...\n",
      "Run: 6, iteration: 1/100, moves: 1, ncost: 287211572.67251563\n",
      "Run: 6, iteration: 2/100, moves: 5, ncost: 283475740.89910644\n",
      "Run: 6, iteration: 3/100, moves: 3, ncost: 281345736.29197216\n",
      "Run: 6, iteration: 4/100, moves: 1, ncost: 281000149.1116565\n",
      "Run: 6, iteration: 5/100, moves: 1, ncost: 280730651.71258557\n",
      "Run: 6, iteration: 6/100, moves: 0, ncost: 280730651.71258557\n",
      "Init: initializing centroids\n",
      "Init: initializing clusters\n",
      "Starting iterations...\n",
      "Run: 6, iteration: 1/100, moves: 19, ncost: 124636309.23478346\n",
      "Run: 6, iteration: 2/100, moves: 2, ncost: 123567390.65550901\n",
      "Run: 6, iteration: 3/100, moves: 2, ncost: 122147700.13923477\n",
      "Run: 6, iteration: 4/100, moves: 3, ncost: 120774197.06808399\n",
      "Run: 6, iteration: 5/100, moves: 1, ncost: 120576102.881602\n",
      "Run: 6, iteration: 6/100, moves: 0, ncost: 120576102.881602\n",
      "Init: initializing centroids\n",
      "Init: initializing clusters\n",
      "Starting iterations...\n",
      "Run: 7, iteration: 1/100, moves: 14, ncost: 90424045.37281606\n",
      "Run: 7, iteration: 2/100, moves: 11, ncost: 81162200.33734526\n",
      "Run: 7, iteration: 3/100, moves: 2, ncost: 80306470.85856733\n",
      "Run: 7, iteration: 4/100, moves: 2, ncost: 79865249.60126422\n",
      "Run: 7, iteration: 5/100, moves: 1, ncost: 79749669.725411\n",
      "Run: 7, iteration: 6/100, moves: 0, ncost: 79749669.725411\n",
      "Init: initializing centroids\n",
      "Init: initializing clusters\n",
      "Init: initializing centroids\n",
      "Init: initializing clusters\n",
      "Starting iterations...\n",
      "Run: 4, iteration: 1/100, moves: 9, ncost: 56112724.918375805\n",
      "Run: 4, iteration: 2/100, moves: 10, ncost: 50726955.642003134\n",
      "Run: 4, iteration: 3/100, moves: 7, ncost: 45819992.09641073\n",
      "Run: 4, iteration: 4/100, moves: 7, ncost: 41440730.66997282\n",
      "Run: 4, iteration: 5/100, moves: 1, ncost: 41315421.81488363\n",
      "Run: 4, iteration: 6/100, moves: 0, ncost: 41315421.81488363\n",
      "Init: initializing centroids\n",
      "Init: initializing clusters\n",
      "Starting iterations...\n",
      "Run: 4, iteration: 1/100, moves: 21, ncost: 42562115.3500743\n",
      "Run: 4, iteration: 2/100, moves: 9, ncost: 35745037.539816886\n",
      "Run: 4, iteration: 3/100, moves: 3, ncost: 34242382.256439805\n",
      "Run: 4, iteration: 4/100, moves: 1, ncost: 34043141.36844139\n",
      "Run: 4, iteration: 5/100, moves: 0, ncost: 34043141.36844139\n",
      "Init: initializing centroids\n",
      "Init: initializing clusters\n",
      "Starting iterations...\n",
      "Run: 1, iteration: 1/100, moves: 14, ncost: 33441889.80828541\n",
      "Run: 1, iteration: 2/100, moves: 15, ncost: 26731720.394428387\n",
      "Run: 1, iteration: 3/100, moves: 2, ncost: 26469792.527283847\n",
      "Run: 1, iteration: 4/100, moves: 0, ncost: 26469792.527283847\n",
      "Init: initializing centroids\n",
      "Init: initializing clusters\n",
      "Starting iterations...\n",
      "Run: 10, iteration: 1/100, moves: 11, ncost: 66276696.15149533\n",
      "Run: 10, iteration: 2/100, moves: 12, ncost: 57919279.6287024\n",
      "Run: 10, iteration: 3/100, moves: 17, ncost: 41155998.018974714\n",
      "Run: 10, iteration: 4/100, moves: 8, ncost: 36132901.50301069\n",
      "Run: 10, iteration: 5/100, moves: 9, ncost: 29351644.71047823\n",
      "Run: 10, iteration: 6/100, moves: 2, ncost: 28581356.628862493\n",
      "Run: 10, iteration: 7/100, moves: 1, ncost: 28107828.571123097\n",
      "Run: 10, iteration: 8/100, moves: 2, ncost: 27745960.852290988\n",
      "Run: 10, iteration: 9/100, moves: 0, ncost: 27745960.852290988\n",
      "Init: initializing centroids\n",
      "Init: initializing clusters\n",
      "Starting iterations...\n",
      "Run: 2, iteration: 1/100, moves: 14, ncost: 18454015.897813022\n",
      "Run: 2, iteration: 2/100, moves: 7, ncost: 17446191.52887744\n",
      "Run: 2, iteration: 3/100, moves: 0, ncost: 17446191.52887744\n",
      "Init: initializing centroids\n",
      "Init: initializing clusters\n",
      "Starting iterations...\n",
      "Run: 9, iteration: 1/100, moves: 25, ncost: 35015312.84503263\n",
      "Run: 9, iteration: 2/100, moves: 12, ncost: 30294271.707714926\n",
      "Run: 9, iteration: 3/100, moves: 7, ncost: 27743701.596050978\n",
      "Run: 9, iteration: 4/100, moves: 5, ncost: 26812327.72511412\n",
      "Run: 9, iteration: 5/100, moves: 2, ncost: 26204780.354113907\n",
      "Run: 9, iteration: 6/100, moves: 1, ncost: 26035656.77651979\n",
      "Run: 9, iteration: 7/100, moves: 0, ncost: 26035656.77651979\n",
      "Init: initializing centroids\n",
      "Init: initializing clusters\n",
      "Starting iterations...\n",
      "Run: 5, iteration: 1/100, moves: 18, ncost: 27173849.36129739\n",
      "Run: 5, iteration: 2/100, moves: 10, ncost: 19128229.520958446\n",
      "Run: 5, iteration: 3/100, moves: 2, ncost: 17772323.527791325\n",
      "Run: 5, iteration: 4/100, moves: 2, ncost: 17380211.236957155\n",
      "Run: 5, iteration: 5/100, moves: 0, ncost: 17380211.236957155\n",
      "Init: initializing centroids\n",
      "Init: initializing clusters\n",
      "Starting iterations...\n",
      "Run: 1, iteration: 1/100, moves: 18, ncost: 149892686.8679522\n",
      "Run: 1, iteration: 2/100, moves: 16, ncost: 122710132.00455219\n",
      "Run: 1, iteration: 3/100, moves: 4, ncost: 120576102.881602\n",
      "Run: 1, iteration: 4/100, moves: 0, ncost: 120576102.881602\n",
      "Init: initializing centroids\n",
      "Init: initializing clusters\n",
      "Starting iterations...\n",
      "Run: 7, iteration: 1/100, moves: 15, ncost: 129732856.22429067\n",
      "Run: 7, iteration: 2/100, moves: 5, ncost: 125341274.95911866\n",
      "Run: 7, iteration: 3/100, moves: 2, ncost: 124605877.86055334\n",
      "Run: 7, iteration: 4/100, moves: 0, ncost: 124605877.86055334\n",
      "Init: initializing centroids\n",
      "Init: initializing clusters\n",
      "Starting iterations...\n",
      "Run: 8, iteration: 1/100, moves: 0, ncost: 942030475.2494999\n",
      "Init: initializing centroids\n",
      "Init: initializing clusters\n",
      "Starting iterations...\n",
      "Run: 3, iteration: 1/100, moves: 0, ncost: 280730651.71258557\n",
      "Init: initializing centroids\n",
      "Init: initializing clusters\n",
      "Starting iterations...\n",
      "Run: 8, iteration: 1/100, moves: 2, ncost: 281599669.7852548\n",
      "Run: 8, iteration: 2/100, moves: 2, ncost: 280730651.71258557\n",
      "Run: 8, iteration: 3/100, moves: 0, ncost: 280730651.71258557\n",
      "Init: initializing centroids\n",
      "Init: initializing clusters\n",
      "Starting iterations...\n",
      "Run: 8, iteration: 1/100, moves: 7, ncost: 120765882.41987191\n",
      "Run: 8, iteration: 2/100, moves: 1, ncost: 120576102.881602\n",
      "Run: 8, iteration: 3/100, moves: 0, ncost: 120576102.881602\n",
      "Init: initializing centroids\n",
      "Init: initializing clusters\n",
      "Starting iterations...\n",
      "Run: 5, iteration: 1/100, moves: 6, ncost: 79834185.6356795\n",
      "Run: 5, iteration: 2/100, moves: 0, ncost: 79834185.6356795\n",
      "Init: initializing centroids\n",
      "Init: initializing clusters\n",
      "Starting iterations...\n",
      "Run: 10, iteration: 1/100, moves: 3, ncost: 82804506.34188986\n",
      "Run: 10, iteration: 2/100, moves: 0, ncost: 82804506.34188986\n",
      "Init: initializing centroids\n",
      "Init: initializing clusters\n",
      "Starting iterations...\n",
      "Run: 3, iteration: 1/100, moves: 23, ncost: 76862253.37912057\n",
      "Run: 3, iteration: 2/100, moves: 12, ncost: 68757696.15471938\n",
      "Run: 3, iteration: 3/100, moves: 6, ncost: 63483175.136408634\n",
      "Run: 3, iteration: 4/100, moves: 3, ncost: 62648657.93266913\n",
      "Run: 3, iteration: 5/100, moves: 1, ncost: 62537733.699452326\n",
      "Run: 3, iteration: 6/100, moves: 0, ncost: 62537733.699452326\n",
      "Init: initializing centroids\n",
      "Init: initializing clusters\n",
      "Starting iterations...\n",
      "Run: 7, iteration: 1/100, moves: 21, ncost: 45142141.71086588\n",
      "Run: 7, iteration: 2/100, moves: 16, ncost: 34353490.128393136\n",
      "Run: 7, iteration: 3/100, moves: 8, ncost: 29843435.9950099\n",
      "Run: 7, iteration: 4/100, moves: 3, ncost: 29216141.871504273\n",
      "Run: 7, iteration: 5/100, moves: 1, ncost: 28742613.813764874\n",
      "Run: 7, iteration: 6/100, moves: 2, ncost: 28380746.094932765\n",
      "Run: 7, iteration: 7/100, moves: 0, ncost: 28380746.094932765\n",
      "Init: initializing centroids\n",
      "Init: initializing clusters\n",
      "Starting iterations...\n",
      "Run: 3, iteration: 1/100, moves: 27, ncost: 41353541.53862719\n",
      "Run: 3, iteration: 2/100, moves: 8, ncost: 34420698.734528095\n",
      "Run: 3, iteration: 3/100, moves: 2, ncost: 33064792.74136098\n",
      "Run: 3, iteration: 4/100, moves: 5, ncost: 32292301.429847687\n",
      "Run: 3, iteration: 5/100, moves: 4, ncost: 31644599.4335899\n",
      "Run: 3, iteration: 6/100, moves: 2, ncost: 31313875.754576053\n",
      "Run: 3, iteration: 7/100, moves: 7, ncost: 29684018.9688684\n",
      "Run: 3, iteration: 8/100, moves: 5, ncost: 28255198.583150987\n",
      "Run: 3, iteration: 9/100, moves: 2, ncost: 27956724.057471734\n",
      "Run: 3, iteration: 10/100, moves: 1, ncost: 27550264.1424574\n",
      "Run: 3, iteration: 11/100, moves: 2, ncost: 27245447.64550744\n",
      "Run: 3, iteration: 12/100, moves: 0, ncost: 27245447.64550744\n",
      "Init: initializing centroids\n",
      "Init: initializing clusters\n",
      "Starting iterations...\n",
      "Run: 8, iteration: 1/100, moves: 4, ncost: 23924753.359805096\n",
      "Run: 8, iteration: 2/100, moves: 0, ncost: 23924753.359805096\n",
      "Init: initializing centroids\n",
      "Init: initializing clusters\n",
      "Starting iterations...\n",
      "Run: 10, iteration: 1/100, moves: 14, ncost: 18447501.794076595\n",
      "Run: 10, iteration: 2/100, moves: 8, ncost: 15213940.023134239\n",
      "Run: 10, iteration: 3/100, moves: 4, ncost: 14531490.98318129\n",
      "Run: 10, iteration: 4/100, moves: 2, ncost: 14370466.059532413\n",
      "Run: 10, iteration: 5/100, moves: 0, ncost: 14370466.059532413\n",
      "Init: initializing centroids\n",
      "Init: initializing clusters\n",
      "Starting iterations...\n",
      "Run: 7, iteration: 1/100, moves: 10, ncost: 25603899.458099134\n",
      "Run: 7, iteration: 2/100, moves: 8, ncost: 24424125.29993734\n",
      "Run: 7, iteration: 3/100, moves: 1, ncost: 24369794.261558656\n",
      "Run: 7, iteration: 4/100, moves: 0, ncost: 24369794.261558656\n",
      "Init: initializing centroids\n",
      "Init: initializing clusters\n",
      "Starting iterations...\n",
      "Run: 9, iteration: 1/100, moves: 26, ncost: 121889347.84504676\n",
      "Run: 9, iteration: 2/100, moves: 3, ncost: 120576102.881602\n",
      "Run: 9, iteration: 3/100, moves: 0, ncost: 120576102.881602\n"
     ]
    },
    {
     "name": "stdout",
     "output_type": "stream",
     "text": [
      "Init: initializing centroids\n",
      "Init: initializing clusters\n",
      "Starting iterations...\n",
      "Run: 2, iteration: 1/100, moves: 0, ncost: 942030475.2494999\n",
      "Init: initializing centroids\n",
      "Init: initializing clusters\n",
      "Starting iterations...\n",
      "Run: 10, iteration: 1/100, moves: 0, ncost: 942030475.2494999\n",
      "Init: initializing centroids\n",
      "Init: initializing clusters\n",
      "Starting iterations...\n",
      "Run: 9, iteration: 1/100, moves: 15, ncost: 296265819.8470578\n",
      "Run: 9, iteration: 2/100, moves: 10, ncost: 281599669.7852548\n",
      "Run: 9, iteration: 3/100, moves: 2, ncost: 280730651.71258557\n",
      "Run: 9, iteration: 4/100, moves: 0, ncost: 280730651.71258557\n",
      "Init: initializing centroids\n",
      "Init: initializing clusters\n",
      "Starting iterations...\n",
      "Run: 2, iteration: 1/100, moves: 19, ncost: 136089949.7016402\n",
      "Run: 2, iteration: 2/100, moves: 9, ncost: 122710132.00455219\n",
      "Run: 2, iteration: 3/100, moves: 4, ncost: 120576102.881602\n",
      "Run: 2, iteration: 4/100, moves: 0, ncost: 120576102.881602\n",
      "Init: initializing centroids\n",
      "Init: initializing clusters\n",
      "Starting iterations...\n",
      "Run: 1, iteration: 1/100, moves: 33, ncost: 88292025.22811265\n",
      "Run: 1, iteration: 2/100, moves: 9, ncost: 79947655.57530068\n",
      "Run: 1, iteration: 3/100, moves: 7, ncost: 75790160.6644285\n",
      "Run: 1, iteration: 4/100, moves: 1, ncost: 75582212.67927414\n",
      "Run: 1, iteration: 5/100, moves: 0, ncost: 75582212.67927414\n",
      "Init: initializing centroids\n",
      "Init: initializing clusters\n",
      "Starting iterations...\n",
      "Run: 8, iteration: 1/100, moves: 15, ncost: 70031718.08133277\n",
      "Run: 8, iteration: 2/100, moves: 16, ncost: 54719727.142261386\n",
      "Run: 8, iteration: 3/100, moves: 8, ncost: 49702362.46560334\n",
      "Run: 8, iteration: 4/100, moves: 9, ncost: 42921105.67307089\n",
      "Run: 8, iteration: 5/100, moves: 2, ncost: 42150817.59145517\n",
      "Run: 8, iteration: 6/100, moves: 1, ncost: 41677289.53371576\n",
      "Run: 8, iteration: 7/100, moves: 2, ncost: 41315421.81488362\n",
      "Run: 8, iteration: 8/100, moves: 0, ncost: 41315421.81488362\n",
      "Init: initializing centroids\n",
      "Init: initializing clusters\n",
      "Starting iterations...\n",
      "Run: 5, iteration: 1/100, moves: 22, ncost: 49250985.25424337\n",
      "Run: 5, iteration: 2/100, moves: 16, ncost: 40574421.95395714\n",
      "Run: 5, iteration: 3/100, moves: 9, ncost: 33442820.54965944\n",
      "Run: 5, iteration: 4/100, moves: 4, ncost: 32753801.38248463\n",
      "Run: 5, iteration: 5/100, moves: 0, ncost: 32753801.38248463\n",
      "Init: initializing centroids\n",
      "Init: initializing clusters\n",
      "Starting iterations...\n",
      "Run: 4, iteration: 1/100, moves: 19, ncost: 35792555.65266429\n",
      "Run: 4, iteration: 2/100, moves: 17, ncost: 23908663.5273607\n",
      "Run: 4, iteration: 3/100, moves: 7, ncost: 21567554.262194913\n",
      "Run: 4, iteration: 4/100, moves: 4, ncost: 21009441.25939801\n",
      "Run: 4, iteration: 5/100, moves: 0, ncost: 21009441.25939801\n",
      "Init: initializing centroids\n",
      "Init: initializing clusters\n",
      "Starting iterations...\n",
      "Run: 1, iteration: 1/100, moves: 28, ncost: 16721834.201090738\n",
      "Run: 1, iteration: 2/100, moves: 7, ncost: 15149088.533985313\n",
      "Run: 1, iteration: 3/100, moves: 2, ncost: 14541541.162985103\n",
      "Run: 1, iteration: 4/100, moves: 1, ncost: 14372417.58539098\n",
      "Run: 1, iteration: 5/100, moves: 0, ncost: 14372417.58539098\n",
      "Init: initializing centroids\n",
      "Init: initializing clusters\n",
      "Starting iterations...\n",
      "Run: 1, iteration: 1/100, moves: 16, ncost: 14760081.078481793\n",
      "Run: 1, iteration: 2/100, moves: 5, ncost: 13519969.0967628\n",
      "Run: 1, iteration: 3/100, moves: 4, ncost: 13155462.1967119\n",
      "Run: 1, iteration: 4/100, moves: 0, ncost: 13155462.1967119\n",
      "Init: initializing centroids\n",
      "Init: initializing clusters\n",
      "Starting iterations...\n",
      "Run: 9, iteration: 1/100, moves: 19, ncost: 37799587.611002736\n",
      "Run: 9, iteration: 2/100, moves: 8, ncost: 33095960.518231083\n",
      "Run: 9, iteration: 3/100, moves: 10, ncost: 25819969.498605575\n",
      "Run: 9, iteration: 4/100, moves: 13, ncost: 20261073.551347278\n",
      "Run: 9, iteration: 5/100, moves: 11, ncost: 18033024.761551417\n",
      "Run: 9, iteration: 6/100, moves: 5, ncost: 17380211.236957155\n",
      "Run: 9, iteration: 7/100, moves: 0, ncost: 17380211.236957155\n",
      "Init: initializing centroids\n",
      "Init: initializing clusters\n",
      "Starting iterations...\n",
      "Run: 8, iteration: 1/100, moves: 14, ncost: 123264183.96278308\n",
      "Run: 8, iteration: 2/100, moves: 5, ncost: 121070971.7932397\n",
      "Run: 8, iteration: 3/100, moves: 2, ncost: 120576102.881602\n",
      "Run: 8, iteration: 4/100, moves: 0, ncost: 120576102.881602\n",
      "Init: initializing centroids\n",
      "Init: initializing clusters\n",
      "Starting iterations...\n",
      "Run: 5, iteration: 1/100, moves: 0, ncost: 942030475.2494999\n",
      "Init: initializing centroids\n",
      "Init: initializing clusters\n",
      "Starting iterations...\n",
      "Run: 5, iteration: 1/100, moves: 15, ncost: 296265819.8470578\n",
      "Run: 5, iteration: 2/100, moves: 10, ncost: 281599669.7852548\n",
      "Run: 5, iteration: 3/100, moves: 2, ncost: 280730651.71258557\n",
      "Run: 5, iteration: 4/100, moves: 0, ncost: 280730651.71258557\n",
      "Init: initializing centroids\n",
      "Init: initializing clusters\n",
      "Starting iterations...\n",
      "Run: 7, iteration: 1/100, moves: 17, ncost: 153794934.9205872\n",
      "Run: 7, iteration: 2/100, moves: 18, ncost: 122710132.00455219\n",
      "Run: 7, iteration: 3/100, moves: 4, ncost: 120576102.881602\n",
      "Run: 7, iteration: 4/100, moves: 0, ncost: 120576102.881602\n",
      "Init: initializing centroids\n",
      "Init: initializing clusters\n",
      "Starting iterations...\n",
      "Run: 6, iteration: 1/100, moves: 0, ncost: 85188479.32047758\n",
      "Init: initializing centroids\n",
      "Init: initializing clusters\n",
      "Starting iterations...\n",
      "Run: 9, iteration: 1/100, moves: 9, ncost: 87001499.98274712\n",
      "Run: 9, iteration: 2/100, moves: 5, ncost: 84720339.66549054\n",
      "Run: 9, iteration: 3/100, moves: 1, ncost: 84543718.3515291\n",
      "Run: 9, iteration: 4/100, moves: 0, ncost: 84543718.3515291\n",
      "Init: initializing centroids\n",
      "Init: initializing clusters\n",
      "Starting iterations...\n",
      "Run: 2, iteration: 1/100, moves: 32, ncost: 71289914.83683638\n",
      "Run: 2, iteration: 2/100, moves: 4, ncost: 68941860.83259344\n",
      "Run: 2, iteration: 3/100, moves: 1, ncost: 68767645.19656244\n",
      "Run: 2, iteration: 4/100, moves: 0, ncost: 68767645.19656244\n",
      "Init: initializing centroids\n",
      "Init: initializing clusters\n",
      "Starting iterations...\n",
      "Run: 10, iteration: 1/100, moves: 23, ncost: 70506904.58860454\n",
      "Run: 10, iteration: 2/100, moves: 7, ncost: 68767645.19656244\n",
      "Run: 10, iteration: 3/100, moves: 0, ncost: 68767645.19656244\n",
      "Init: initializing centroids\n",
      "Init: initializing clusters\n",
      "Starting iterations...\n",
      "Run: 6, iteration: 1/100, moves: 17, ncost: 35824060.83304388\n",
      "Run: 6, iteration: 2/100, moves: 5, ncost: 34080081.27726987\n",
      "Run: 6, iteration: 3/100, moves: 3, ncost: 33789922.45261263\n",
      "Run: 6, iteration: 4/100, moves: 0, ncost: 33789922.45261263\n",
      "Init: initializing centroids\n",
      "Init: initializing clusters\n",
      "Starting iterations...\n",
      "Run: 10, iteration: 1/100, moves: 16, ncost: 29644615.636681736\n",
      "Run: 10, iteration: 2/100, moves: 2, ncost: 29414194.59519492\n",
      "Run: 10, iteration: 3/100, moves: 3, ncost: 28544258.91273856\n",
      "Run: 10, iteration: 4/100, moves: 2, ncost: 28380746.094932765\n",
      "Run: 10, iteration: 5/100, moves: 0, ncost: 28380746.094932765\n",
      "Init: initializing centroids\n",
      "Init: initializing clusters\n",
      "Starting iterations...\n",
      "Run: 8, iteration: 1/100, moves: 20, ncost: 24059356.20742041\n",
      "Run: 8, iteration: 2/100, moves: 5, ncost: 22872793.087095536\n",
      "Run: 8, iteration: 3/100, moves: 2, ncost: 22574318.56141628\n",
      "Run: 8, iteration: 4/100, moves: 1, ncost: 22167858.64640195\n",
      "Run: 8, iteration: 5/100, moves: 2, ncost: 21863042.149451986\n",
      "Run: 8, iteration: 6/100, moves: 0, ncost: 21863042.149451986\n",
      "Init: initializing centroids\n",
      "Init: initializing clusters\n",
      "Init: initializing centroids\n",
      "Init: initializing clusters\n",
      "Starting iterations...\n",
      "Run: 4, iteration: 1/100, moves: 27, ncost: 29801787.37290461\n",
      "Run: 4, iteration: 2/100, moves: 14, ncost: 20920135.367226996\n",
      "Run: 4, iteration: 3/100, moves: 6, ncost: 19688917.186669648\n",
      "Run: 4, iteration: 4/100, moves: 0, ncost: 19688917.186669648\n",
      "Init: initializing centroids\n",
      "Init: initializing clusters\n",
      "Init: initializing centroids\n",
      "Init: initializing clusters\n",
      "Init: initializing centroids\n",
      "Init: initializing clusters\n",
      "Starting iterations...\n",
      "Run: 8, iteration: 1/100, moves: 17, ncost: 14684344.675339835\n",
      "Run: 8, iteration: 2/100, moves: 9, ncost: 13051893.512662616\n",
      "Run: 8, iteration: 3/100, moves: 0, ncost: 13051893.512662616\n",
      "Init: initializing centroids\n",
      "Init: initializing clusters\n",
      "Starting iterations...\n",
      "Run: 5, iteration: 1/100, moves: 19, ncost: 147497049.06278217\n",
      "Run: 5, iteration: 2/100, moves: 15, ncost: 122710132.00455219\n",
      "Run: 5, iteration: 3/100, moves: 4, ncost: 120576102.881602\n",
      "Run: 5, iteration: 4/100, moves: 0, ncost: 120576102.881602\n",
      "Init: initializing centroids\n",
      "Init: initializing clusters\n",
      "Starting iterations...\n",
      "Run: 1, iteration: 1/100, moves: 0, ncost: 942030475.2494999\n",
      "Init: initializing centroids\n",
      "Init: initializing clusters\n",
      "Starting iterations...\n",
      "Run: 9, iteration: 1/100, moves: 0, ncost: 942030475.2494999\n",
      "Init: initializing centroids\n",
      "Init: initializing clusters\n",
      "Starting iterations...\n",
      "Run: 1, iteration: 1/100, moves: 0, ncost: 280730651.71258557\n",
      "Init: initializing centroids\n",
      "Init: initializing clusters\n",
      "Starting iterations...\n",
      "Run: 7, iteration: 1/100, moves: 9, ncost: 287211572.67251563\n",
      "Run: 7, iteration: 2/100, moves: 5, ncost: 283475740.89910644\n",
      "Run: 7, iteration: 3/100, moves: 3, ncost: 281345736.29197216\n",
      "Run: 7, iteration: 4/100, moves: 1, ncost: 281000149.1116565\n",
      "Run: 7, iteration: 5/100, moves: 1, ncost: 280730651.71258557\n",
      "Run: 7, iteration: 6/100, moves: 0, ncost: 280730651.71258557\n",
      "Init: initializing centroids\n",
      "Init: initializing clusters\n",
      "Starting iterations...\n",
      "Run: 3, iteration: 1/100, moves: 21, ncost: 140592325.99469185\n",
      "Run: 3, iteration: 2/100, moves: 6, ncost: 133084570.02101515\n",
      "Run: 3, iteration: 3/100, moves: 3, ncost: 131787986.42013152\n",
      "Run: 3, iteration: 4/100, moves: 2, ncost: 130813411.85623963\n",
      "Run: 3, iteration: 5/100, moves: 5, ncost: 126877456.92774686\n",
      "Run: 3, iteration: 6/100, moves: 3, ncost: 124789778.52790724\n",
      "Run: 3, iteration: 7/100, moves: 1, ncost: 124605877.86055334\n",
      "Run: 3, iteration: 8/100, moves: 0, ncost: 124605877.86055334\n",
      "Init: initializing centroids\n",
      "Init: initializing clusters\n",
      "Starting iterations...\n",
      "Run: 4, iteration: 1/100, moves: 13, ncost: 76478688.74584031\n",
      "Run: 4, iteration: 2/100, moves: 2, ncost: 75661584.42253746\n",
      "Run: 4, iteration: 3/100, moves: 0, ncost: 75661584.42253746\n",
      "Init: initializing centroids\n",
      "Init: initializing clusters\n",
      "Starting iterations...\n",
      "Run: 5, iteration: 1/100, moves: 22, ncost: 49995039.58570892\n",
      "Run: 5, iteration: 2/100, moves: 9, ncost: 43473588.20180641\n",
      "Run: 5, iteration: 3/100, moves: 3, ncost: 42507570.212429136\n",
      "Run: 5, iteration: 4/100, moves: 1, ncost: 42034042.15468973\n",
      "Run: 5, iteration: 5/100, moves: 2, ncost: 41672174.43585759\n",
      "Run: 5, iteration: 6/100, moves: 0, ncost: 41672174.43585759\n",
      "Init: initializing centroids\n",
      "Init: initializing clusters\n",
      "Init: initializing centroids\n",
      "Init: initializing clusters\n",
      "Starting iterations...\n",
      "Run: 1, iteration: 1/100, moves: 4, ncost: 28380746.094932765\n",
      "Run: 1, iteration: 2/100, moves: 0, ncost: 28380746.094932765\n",
      "Init: initializing centroids\n",
      "Init: initializing clusters\n",
      "Init: initializing centroids\n",
      "Init: initializing clusters\n",
      "Starting iterations...\n",
      "Run: 9, iteration: 1/100, moves: 19, ncost: 39965319.72312842\n",
      "Run: 9, iteration: 2/100, moves: 11, ncost: 34587399.50094048\n",
      "Run: 9, iteration: 3/100, moves: 2, ncost: 34378168.563318506\n",
      "Run: 9, iteration: 4/100, moves: 1, ncost: 34314805.26270847\n",
      "Run: 9, iteration: 5/100, moves: 0, ncost: 34314805.26270847\n",
      "Init: initializing centroids\n",
      "Init: initializing clusters\n",
      "Starting iterations...\n",
      "Run: 7, iteration: 1/100, moves: 16, ncost: 31439964.209055856\n",
      "Run: 7, iteration: 2/100, moves: 8, ncost: 29684018.9688684\n",
      "Run: 7, iteration: 3/100, moves: 5, ncost: 28255198.583150987\n",
      "Run: 7, iteration: 4/100, moves: 2, ncost: 27956724.057471734\n",
      "Run: 7, iteration: 5/100, moves: 1, ncost: 27550264.1424574\n",
      "Run: 7, iteration: 6/100, moves: 2, ncost: 27245447.64550744\n",
      "Run: 7, iteration: 7/100, moves: 0, ncost: 27245447.64550744\n",
      "Init: initializing centroids\n",
      "Init: initializing clusters\n",
      "Starting iterations...\n",
      "Run: 3, iteration: 1/100, moves: 20, ncost: 28516076.25738448\n",
      "Run: 3, iteration: 2/100, moves: 8, ncost: 26017526.858290084\n",
      "Run: 3, iteration: 3/100, moves: 1, ncost: 25880985.92968587\n",
      "Run: 3, iteration: 4/100, moves: 3, ncost: 25162992.962989688\n",
      "Run: 3, iteration: 5/100, moves: 1, ncost: 24993869.385395568\n",
      "Run: 3, iteration: 6/100, moves: 0, ncost: 24993869.385395568\n",
      "Init: initializing centroids\n",
      "Init: initializing clusters\n",
      "Init: initializing centroids\n",
      "Init: initializing clusters\n",
      "Starting iterations...\n",
      "Run: 6, iteration: 1/100, moves: 19, ncost: 20829894.20751388\n",
      "Run: 6, iteration: 2/100, moves: 7, ncost: 17201086.73816807\n",
      "Run: 6, iteration: 3/100, moves: 8, ncost: 12375241.776466694\n",
      "Run: 6, iteration: 4/100, moves: 2, ncost: 11826538.206452461\n",
      "Run: 6, iteration: 5/100, moves: 2, ncost: 11665513.282803588\n",
      "Run: 6, iteration: 6/100, moves: 0, ncost: 11665513.282803588\n",
      "Init: initializing centroids\n",
      "Init: initializing clusters\n",
      "Starting iterations...\n",
      "Run: 10, iteration: 1/100, moves: 4, ncost: 124282069.25491987\n",
      "Run: 10, iteration: 2/100, moves: 1, ncost: 123567390.65550901\n",
      "Run: 10, iteration: 3/100, moves: 2, ncost: 122147700.13923477\n",
      "Run: 10, iteration: 4/100, moves: 3, ncost: 120774197.06808399\n",
      "Run: 10, iteration: 5/100, moves: 1, ncost: 120576102.881602\n",
      "Run: 10, iteration: 6/100, moves: 0, ncost: 120576102.881602\n",
      "Init: initializing centroids\n",
      "Init: initializing clusters\n",
      "Starting iterations...\n",
      "Run: 3, iteration: 1/100, moves: 0, ncost: 942030475.2494999\n",
      "Init: initializing centroids\n",
      "Init: initializing clusters\n",
      "Starting iterations...\n",
      "Run: 4, iteration: 1/100, moves: 16, ncost: 288371448.00933397\n",
      "Run: 4, iteration: 2/100, moves: 2, ncost: 287211572.67251563\n",
      "Run: 4, iteration: 3/100, moves: 5, ncost: 283475740.89910644\n",
      "Run: 4, iteration: 4/100, moves: 3, ncost: 281345736.29197216\n",
      "Run: 4, iteration: 5/100, moves: 1, ncost: 281000149.1116565\n",
      "Run: 4, iteration: 6/100, moves: 1, ncost: 280730651.71258557\n",
      "Run: 4, iteration: 7/100, moves: 0, ncost: 280730651.71258557\n",
      "Init: initializing centroids\n",
      "Init: initializing clusters\n",
      "Starting iterations...\n",
      "Run: 5, iteration: 1/100, moves: 9, ncost: 136195105.29789892\n",
      "Run: 5, iteration: 2/100, moves: 5, ncost: 132180965.38394555\n",
      "Run: 5, iteration: 3/100, moves: 1, ncost: 131790474.31428844\n",
      "Run: 5, iteration: 4/100, moves: 2, ncost: 130813411.85623963\n",
      "Run: 5, iteration: 5/100, moves: 5, ncost: 126877456.92774686\n",
      "Run: 5, iteration: 6/100, moves: 3, ncost: 124789778.52790724\n",
      "Run: 5, iteration: 7/100, moves: 1, ncost: 124605877.86055334\n",
      "Run: 5, iteration: 8/100, moves: 0, ncost: 124605877.86055334\n",
      "Init: initializing centroids\n",
      "Init: initializing clusters\n",
      "Starting iterations...\n",
      "Run: 2, iteration: 1/100, moves: 11, ncost: 80954049.65459077\n",
      "Run: 2, iteration: 2/100, moves: 7, ncost: 76209965.39305171\n",
      "Run: 2, iteration: 3/100, moves: 0, ncost: 76209965.39305171\n",
      "Init: initializing centroids\n",
      "Init: initializing clusters\n",
      "Starting iterations...\n",
      "Run: 1, iteration: 1/100, moves: 5, ncost: 75708794.86139005\n",
      "Run: 1, iteration: 2/100, moves: 5, ncost: 72098334.69201688\n",
      "Run: 1, iteration: 3/100, moves: 0, ncost: 72098334.69201688\n",
      "Init: initializing centroids\n",
      "Init: initializing clusters\n",
      "Starting iterations...\n",
      "Run: 9, iteration: 1/100, moves: 23, ncost: 58895185.672299154\n",
      "Run: 9, iteration: 2/100, moves: 11, ncost: 52977009.18079554\n",
      "Run: 9, iteration: 3/100, moves: 8, ncost: 48573656.31023739\n",
      "Run: 9, iteration: 4/100, moves: 9, ncost: 41701569.442559324\n",
      "Run: 9, iteration: 5/100, moves: 2, ncost: 41315421.81488363\n",
      "Run: 9, iteration: 6/100, moves: 0, ncost: 41315421.81488363\n",
      "Init: initializing centroids\n",
      "Init: initializing clusters\n",
      "Starting iterations...\n",
      "Run: 8, iteration: 1/100, moves: 19, ncost: 65269544.562681295\n",
      "Run: 8, iteration: 2/100, moves: 21, ncost: 46270111.44559844\n",
      "Run: 8, iteration: 3/100, moves: 18, ncost: 34353490.128393136\n",
      "Run: 8, iteration: 4/100, moves: 8, ncost: 29843435.9950099\n",
      "Run: 8, iteration: 5/100, moves: 3, ncost: 29216141.871504273\n",
      "Run: 8, iteration: 6/100, moves: 1, ncost: 28742613.813764874\n",
      "Run: 8, iteration: 7/100, moves: 2, ncost: 28380746.094932765\n",
      "Run: 8, iteration: 8/100, moves: 0, ncost: 28380746.094932765\n",
      "Init: initializing centroids\n",
      "Init: initializing clusters\n",
      "Starting iterations...\n",
      "Run: 6, iteration: 1/100, moves: 23, ncost: 31215788.677439053\n",
      "Run: 6, iteration: 2/100, moves: 8, ncost: 28083764.25393617\n",
      "Run: 6, iteration: 3/100, moves: 2, ncost: 27476216.88293596\n",
      "Run: 6, iteration: 4/100, moves: 1, ncost: 27307093.305341844\n",
      "Run: 6, iteration: 5/100, moves: 0, ncost: 27307093.305341844\n",
      "Init: initializing centroids\n",
      "Init: initializing clusters\n",
      "Starting iterations...\n",
      "Run: 6, iteration: 1/100, moves: 17, ncost: 24497558.05010832\n",
      "Run: 6, iteration: 2/100, moves: 8, ncost: 22129474.604352295\n",
      "Run: 6, iteration: 3/100, moves: 7, ncost: 19879370.664230634\n",
      "Run: 6, iteration: 4/100, moves: 4, ncost: 18595814.07141681\n",
      "Run: 6, iteration: 5/100, moves: 6, ncost: 16545663.659048187\n",
      "Run: 6, iteration: 6/100, moves: 9, ncost: 14612153.646568991\n",
      "Run: 6, iteration: 7/100, moves: 3, ncost: 14372417.58539098\n",
      "Run: 6, iteration: 8/100, moves: 0, ncost: 14372417.58539098\n",
      "Init: initializing centroids\n",
      "Init: initializing clusters\n",
      "Init: initializing centroids\n",
      "Init: initializing clusters\n",
      "Starting iterations...\n",
      "Run: 4, iteration: 1/100, moves: 10, ncost: 14352748.702600539\n",
      "Run: 4, iteration: 2/100, moves: 3, ncost: 13857515.315697368\n",
      "Run: 4, iteration: 3/100, moves: 1, ncost: 13756312.641862763\n",
      "Run: 4, iteration: 4/100, moves: 0, ncost: 13756312.641862763\n",
      "Init: initializing centroids\n",
      "Init: initializing clusters\n",
      "Starting iterations...\n",
      "Run: 10, iteration: 1/100, moves: 21, ncost: 25667351.696509045\n",
      "Run: 10, iteration: 2/100, moves: 9, ncost: 18699298.6189848\n",
      "Run: 10, iteration: 3/100, moves: 4, ncost: 16968900.37812333\n",
      "Run: 10, iteration: 4/100, moves: 5, ncost: 15880509.759151302\n",
      "Run: 10, iteration: 5/100, moves: 3, ncost: 15490825.173381183\n",
      "Run: 10, iteration: 6/100, moves: 6, ncost: 13893243.369497418\n",
      "Run: 10, iteration: 7/100, moves: 6, ncost: 12361425.41047797\n",
      "Run: 10, iteration: 8/100, moves: 3, ncost: 12028940.759182336\n",
      "Run: 10, iteration: 9/100, moves: 1, ncost: 11622480.84416801\n",
      "Run: 10, iteration: 10/100, moves: 3, ncost: 11215441.108738765\n",
      "Run: 10, iteration: 11/100, moves: 0, ncost: 11215441.108738765\n",
      "Init: initializing centroids\n",
      "Init: initializing clusters\n",
      "Starting iterations...\n",
      "Run: 2, iteration: 1/100, moves: 10, ncost: 120773463.77012612\n",
      "Run: 2, iteration: 2/100, moves: 1, ncost: 120576102.881602\n",
      "Run: 2, iteration: 3/100, moves: 0, ncost: 120576102.881602\n",
      "Init: initializing centroids\n",
      "Init: initializing clusters\n",
      "Starting iterations...\n",
      "Run: 6, iteration: 1/100, moves: 16, ncost: 183563958.30379772\n",
      "Run: 6, iteration: 2/100, moves: 15, ncost: 141977956.15248376\n",
      "Run: 6, iteration: 3/100, moves: 7, ncost: 133084570.02101517\n",
      "Run: 6, iteration: 4/100, moves: 3, ncost: 131787986.42013152\n",
      "Run: 6, iteration: 5/100, moves: 2, ncost: 130813411.85623963\n",
      "Run: 6, iteration: 6/100, moves: 5, ncost: 126877456.92774686\n",
      "Run: 6, iteration: 7/100, moves: 3, ncost: 124789778.52790724\n",
      "Run: 6, iteration: 8/100, moves: 1, ncost: 124605877.86055334\n",
      "Run: 6, iteration: 9/100, moves: 0, ncost: 124605877.86055334\n"
     ]
    }
   ],
   "source": [
    "df_cluster.reset_index().groupby('clusters').agg({\n",
    "    'video_id':'count',\n",
    "    'count':'mean',\n",
    "    'video_length':'mean',\n",
    "    'video_language':lambda x: x.value_counts().index[0],\n",
    "    'video_quality':lambda x: x.value_counts().index[0:2]\n",
    "    \n",
    "})"
   ]
  }
 ],
 "metadata": {
  "kernelspec": {
   "display_name": "Python 3 (ipykernel)",
   "language": "python",
   "name": "python3"
  },
  "language_info": {
   "codemirror_mode": {
    "name": "ipython",
    "version": 3
   },
   "file_extension": ".py",
   "mimetype": "text/x-python",
   "name": "python",
   "nbconvert_exporter": "python",
   "pygments_lexer": "ipython3",
   "version": "3.9.12"
  }
 },
 "nbformat": 4,
 "nbformat_minor": 5
}
